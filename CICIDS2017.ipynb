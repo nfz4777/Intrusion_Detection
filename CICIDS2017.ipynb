{
 "cells": [
  {
   "cell_type": "code",
   "execution_count": 20,
   "id": "d104db85",
   "metadata": {},
   "outputs": [],
   "source": [
    "import pandas as pd\n",
    "import matplotlib.pyplot as plt\n",
    "import seaborn as sns\n",
    "import itertools\n",
    "import random\n",
    "import numpy as np\n",
    "\n",
    "# processing imports\n",
    "from sklearn import preprocessing\n",
    "from sklearn.preprocessing import LabelEncoder\n",
    "from sklearn.model_selection import train_test_split,StratifiedKFold,GridSearchCV\n",
    "from sklearn.model_selection import GridSearchCV,RandomizedSearchCV\n",
    "from sklearn.model_selection import cross_val_score\n",
    "from sklearn.metrics import mean_absolute_error\n",
    "from sklearn.metrics import accuracy_score\n",
    "from sklearn.metrics import confusion_matrix\n",
    "\n",
    "from joblib import dump, load\n",
    "from sklearn.metrics import accuracy_score, f1_score, precision_score,recall_score\n",
    "from sklearn.linear_model import Perceptron\n",
    "from sklearn.linear_model import LogisticRegression\n",
    "from sklearn.neural_network import MLPClassifier\n",
    "from sklearn.tree import DecisionTreeClassifier\n",
    "from sklearn.ensemble import RandomForestClassifier, VotingClassifier\n",
    "from sklearn.ensemble import BaggingClassifier\n",
    "from sklearn.ensemble import AdaBoostClassifier\n",
    "from sklearn.svm import SVC\n",
    "\n",
    "\n",
    "from sklearn import svm, datasets\n",
    "from sklearn.model_selection import train_test_split\n",
    "from sklearn.metrics import confusion_matrix\n",
    "from sklearn.utils.multiclass import unique_labels\n",
    "from sklearn.metrics import roc_curve, auc\n",
    "from sklearn.model_selection import train_test_split\n",
    "from sklearn.preprocessing import label_binarize\n",
    "from sklearn.multiclass import OneVsRestClassifier\n",
    "from scipy import interp\n",
    "from itertools import cycle\n",
    "import seaborn as sns\n",
    "from sklearn.datasets import make_classification\n",
    "from sklearn.neighbors import KNeighborsClassifier\n",
    "from sklearn.ensemble import RandomForestClassifier\n",
    "from sklearn.model_selection import train_test_split\n",
    "from sklearn.metrics import roc_curve\n",
    "from sklearn.metrics import roc_auc_score\n",
    "import sklearn.metrics as metrics\n",
    "\n",
    "# Input data files are available in the \"../input/\" directory.\n",
    "# For example, running this (by clicking run or pressing Shift+Enter) will list all files under the input directory\n",
    "\n",
    "# Any results you write to the current directory are saved as output."
   ]
  },
  {
   "cell_type": "code",
   "execution_count": 33,
   "id": "c5f74122",
   "metadata": {},
   "outputs": [],
   "source": [
    "columns=(['Destination_Port',\n",
    "'Flow_Duration',\n",
    "'Total_Fwd_Packets',\n",
    "'Total_Backward_Packets',\n",
    "'Total_Length_of_Fwd_Packets',\n",
    "'Total_Length_of_Bwd_Packets',\n",
    "'Fwd_Packet_Length_Max',\n",
    "'Fwd_Packet_Length_Min',\n",
    "'Fwd_Packet_Length_Mean',\n",
    "'Fwd_Packet_Length_Std',\n",
    "'Bwd_Packet_Length_Max',\n",
    "'Bwd_Packet_Length_Min',\n",
    "'Bwd_Packet_Length_Mean',\n",
    "'Bwd_Packet_Length_Std',\n",
    "'Flow_Bytes',\n",
    "'Flow_Packets',\n",
    "'Flow_IAT_Mean',\n",
    "'Flow_IAT_Std',\n",
    "'Flow_IAT_Max',\n",
    "'Flow_IAT_Min',\n",
    "'Fwd_IAT_Total',\n",
    "'Fwd_IAT_Mean',\n",
    "'Fwd_IAT_Std',\n",
    "'Fwd_IAT_Max',\n",
    "'Fwd_IAT_Min',\n",
    "'Bwd_IAT_Total',\n",
    "'Bwd_IAT_Mean',\n",
    "'Bwd_IAT_Std',\n",
    "'Bwd_IAT_Max',\n",
    "'Bwd_IAT_Min',\n",
    "'Fwd_PSH_Flags',\n",
    "'Bwd_PSH_Flags',\n",
    "'Fwd_URG_Flags',\n",
    "'Bwd_URG_Flags',\n",
    "'Fwd_Header_Length',\n",
    "'Bwd_Header_Length',\n",
    "'Fwd_Packets',\n",
    "'Bwd_Packets',\n",
    "'Min_Packet_Length',\n",
    "'Max_Packet_Length',\n",
    "'Packet_Length_Mean',\n",
    "'Packet_Length_Std',\n",
    "'Packet_Length_Variance',\n",
    "'FIN-Flag_Count',\n",
    "'SYN_Flag_Count',\n",
    "'RST_Flag_Count',\n",
    "'PSH_Flag_Count',\n",
    "'ACK_Flag_Count',\n",
    "'URG_Flag_Count',\n",
    "'CWE_Flag_Count',\n",
    "'ECE_Flag_Count',\n",
    "'Down/Up_Ratio',\n",
    "'Average_Packet_Size',\n",
    "'Avg_Fwd_Segment_Size',\n",
    "'Avg_Bwd_Segment_Size',\n",
    "'Fwd_Hea_er_Length_1',\n",
    "'Fwd_Avg-Bytes/Bulk',\n",
    "'Fwd_Avg_Packets/Bulk',\n",
    "'Fwd_Avg_Bulk Rate',\n",
    "'Bwd_Avg_Bytes/Bulk',\n",
    "'Bwd_Avg_Packets/Bulk',\n",
    "'Bwd_Avg_Bulk_Rate',\n",
    "'Subflow_Fwd_Packets',\n",
    "'Subflow_Fwd_Bytes',\n",
    "'Subflow_Bwd_Packets',\n",
    "'Subflow_Bwd_Bytes',\n",
    "'Init_Win_bytes_forward',\n",
    "'Init_Win_bytes_backward',\n",
    "'act_data_pkt_fwd',\n",
    "'min_seg_size_forward',\n",
    "'Active_Mean',\n",
    "'Active_Std',\n",
    "'Active_Max',\n",
    "'Active_Min',\n",
    "'Idle_Mean',\n",
    "'Idle_Std',\n",
    "'Idle_Max',\n",
    "'Idle_Min',\n",
    "'Label'])"
   ]
  },
  {
   "cell_type": "code",
   "execution_count": 3,
   "id": "7eb58567",
   "metadata": {},
   "outputs": [
    {
     "data": {
      "text/html": [
       "<div>\n",
       "<style scoped>\n",
       "    .dataframe tbody tr th:only-of-type {\n",
       "        vertical-align: middle;\n",
       "    }\n",
       "\n",
       "    .dataframe tbody tr th {\n",
       "        vertical-align: top;\n",
       "    }\n",
       "\n",
       "    .dataframe thead th {\n",
       "        text-align: right;\n",
       "    }\n",
       "</style>\n",
       "<table border=\"1\" class=\"dataframe\">\n",
       "  <thead>\n",
       "    <tr style=\"text-align: right;\">\n",
       "      <th></th>\n",
       "      <th>Destination Port</th>\n",
       "      <th>Flow Duration</th>\n",
       "      <th>Total Fwd Packets</th>\n",
       "      <th>Total Backward Packets</th>\n",
       "      <th>Total Length of Fwd Packets</th>\n",
       "      <th>Total Length of Bwd Packets</th>\n",
       "      <th>Fwd Packet Length Max</th>\n",
       "      <th>Fwd Packet Length Min</th>\n",
       "      <th>Fwd Packet Length Mean</th>\n",
       "      <th>Fwd Packet Length Std</th>\n",
       "      <th>...</th>\n",
       "      <th>min_seg_size_forward</th>\n",
       "      <th>Active Mean</th>\n",
       "      <th>Active Std</th>\n",
       "      <th>Active Max</th>\n",
       "      <th>Active Min</th>\n",
       "      <th>Idle Mean</th>\n",
       "      <th>Idle Std</th>\n",
       "      <th>Idle Max</th>\n",
       "      <th>Idle Min</th>\n",
       "      <th>Label</th>\n",
       "    </tr>\n",
       "  </thead>\n",
       "  <tbody>\n",
       "    <tr>\n",
       "      <th>0</th>\n",
       "      <td>54865</td>\n",
       "      <td>3</td>\n",
       "      <td>2</td>\n",
       "      <td>0</td>\n",
       "      <td>12</td>\n",
       "      <td>0</td>\n",
       "      <td>6</td>\n",
       "      <td>6</td>\n",
       "      <td>6.0</td>\n",
       "      <td>0.0</td>\n",
       "      <td>...</td>\n",
       "      <td>20</td>\n",
       "      <td>0.0</td>\n",
       "      <td>0.0</td>\n",
       "      <td>0</td>\n",
       "      <td>0</td>\n",
       "      <td>0.0</td>\n",
       "      <td>0.0</td>\n",
       "      <td>0</td>\n",
       "      <td>0</td>\n",
       "      <td>BENIGN</td>\n",
       "    </tr>\n",
       "    <tr>\n",
       "      <th>1</th>\n",
       "      <td>55054</td>\n",
       "      <td>109</td>\n",
       "      <td>1</td>\n",
       "      <td>1</td>\n",
       "      <td>6</td>\n",
       "      <td>6</td>\n",
       "      <td>6</td>\n",
       "      <td>6</td>\n",
       "      <td>6.0</td>\n",
       "      <td>0.0</td>\n",
       "      <td>...</td>\n",
       "      <td>20</td>\n",
       "      <td>0.0</td>\n",
       "      <td>0.0</td>\n",
       "      <td>0</td>\n",
       "      <td>0</td>\n",
       "      <td>0.0</td>\n",
       "      <td>0.0</td>\n",
       "      <td>0</td>\n",
       "      <td>0</td>\n",
       "      <td>BENIGN</td>\n",
       "    </tr>\n",
       "    <tr>\n",
       "      <th>2</th>\n",
       "      <td>55055</td>\n",
       "      <td>52</td>\n",
       "      <td>1</td>\n",
       "      <td>1</td>\n",
       "      <td>6</td>\n",
       "      <td>6</td>\n",
       "      <td>6</td>\n",
       "      <td>6</td>\n",
       "      <td>6.0</td>\n",
       "      <td>0.0</td>\n",
       "      <td>...</td>\n",
       "      <td>20</td>\n",
       "      <td>0.0</td>\n",
       "      <td>0.0</td>\n",
       "      <td>0</td>\n",
       "      <td>0</td>\n",
       "      <td>0.0</td>\n",
       "      <td>0.0</td>\n",
       "      <td>0</td>\n",
       "      <td>0</td>\n",
       "      <td>BENIGN</td>\n",
       "    </tr>\n",
       "    <tr>\n",
       "      <th>3</th>\n",
       "      <td>46236</td>\n",
       "      <td>34</td>\n",
       "      <td>1</td>\n",
       "      <td>1</td>\n",
       "      <td>6</td>\n",
       "      <td>6</td>\n",
       "      <td>6</td>\n",
       "      <td>6</td>\n",
       "      <td>6.0</td>\n",
       "      <td>0.0</td>\n",
       "      <td>...</td>\n",
       "      <td>20</td>\n",
       "      <td>0.0</td>\n",
       "      <td>0.0</td>\n",
       "      <td>0</td>\n",
       "      <td>0</td>\n",
       "      <td>0.0</td>\n",
       "      <td>0.0</td>\n",
       "      <td>0</td>\n",
       "      <td>0</td>\n",
       "      <td>BENIGN</td>\n",
       "    </tr>\n",
       "    <tr>\n",
       "      <th>4</th>\n",
       "      <td>54863</td>\n",
       "      <td>3</td>\n",
       "      <td>2</td>\n",
       "      <td>0</td>\n",
       "      <td>12</td>\n",
       "      <td>0</td>\n",
       "      <td>6</td>\n",
       "      <td>6</td>\n",
       "      <td>6.0</td>\n",
       "      <td>0.0</td>\n",
       "      <td>...</td>\n",
       "      <td>20</td>\n",
       "      <td>0.0</td>\n",
       "      <td>0.0</td>\n",
       "      <td>0</td>\n",
       "      <td>0</td>\n",
       "      <td>0.0</td>\n",
       "      <td>0.0</td>\n",
       "      <td>0</td>\n",
       "      <td>0</td>\n",
       "      <td>BENIGN</td>\n",
       "    </tr>\n",
       "  </tbody>\n",
       "</table>\n",
       "<p>5 rows × 79 columns</p>\n",
       "</div>"
      ],
      "text/plain": [
       "    Destination Port   Flow Duration   Total Fwd Packets  \\\n",
       "0              54865               3                   2   \n",
       "1              55054             109                   1   \n",
       "2              55055              52                   1   \n",
       "3              46236              34                   1   \n",
       "4              54863               3                   2   \n",
       "\n",
       "    Total Backward Packets  Total Length of Fwd Packets  \\\n",
       "0                        0                           12   \n",
       "1                        1                            6   \n",
       "2                        1                            6   \n",
       "3                        1                            6   \n",
       "4                        0                           12   \n",
       "\n",
       "    Total Length of Bwd Packets   Fwd Packet Length Max  \\\n",
       "0                             0                       6   \n",
       "1                             6                       6   \n",
       "2                             6                       6   \n",
       "3                             6                       6   \n",
       "4                             0                       6   \n",
       "\n",
       "    Fwd Packet Length Min   Fwd Packet Length Mean   Fwd Packet Length Std  \\\n",
       "0                       6                      6.0                     0.0   \n",
       "1                       6                      6.0                     0.0   \n",
       "2                       6                      6.0                     0.0   \n",
       "3                       6                      6.0                     0.0   \n",
       "4                       6                      6.0                     0.0   \n",
       "\n",
       "   ...   min_seg_size_forward  Active Mean   Active Std   Active Max  \\\n",
       "0  ...                     20          0.0          0.0            0   \n",
       "1  ...                     20          0.0          0.0            0   \n",
       "2  ...                     20          0.0          0.0            0   \n",
       "3  ...                     20          0.0          0.0            0   \n",
       "4  ...                     20          0.0          0.0            0   \n",
       "\n",
       "    Active Min  Idle Mean   Idle Std   Idle Max   Idle Min   Label  \n",
       "0            0        0.0        0.0          0          0  BENIGN  \n",
       "1            0        0.0        0.0          0          0  BENIGN  \n",
       "2            0        0.0        0.0          0          0  BENIGN  \n",
       "3            0        0.0        0.0          0          0  BENIGN  \n",
       "4            0        0.0        0.0          0          0  BENIGN  \n",
       "\n",
       "[5 rows x 79 columns]"
      ]
     },
     "execution_count": 3,
     "metadata": {},
     "output_type": "execute_result"
    }
   ],
   "source": [
    "df_train = pd.read_csv('Friday-WorkingHours-Afternoon-DDos.pcap_ISCX.csv')\n",
    "df_train.head()"
   ]
  },
  {
   "cell_type": "code",
   "execution_count": 4,
   "id": "397f41f8",
   "metadata": {},
   "outputs": [],
   "source": [
    "df_train.columns=columns"
   ]
  },
  {
   "cell_type": "code",
   "execution_count": 5,
   "id": "9c792d39",
   "metadata": {},
   "outputs": [
    {
     "data": {
      "text/html": [
       "<div>\n",
       "<style scoped>\n",
       "    .dataframe tbody tr th:only-of-type {\n",
       "        vertical-align: middle;\n",
       "    }\n",
       "\n",
       "    .dataframe tbody tr th {\n",
       "        vertical-align: top;\n",
       "    }\n",
       "\n",
       "    .dataframe thead th {\n",
       "        text-align: right;\n",
       "    }\n",
       "</style>\n",
       "<table border=\"1\" class=\"dataframe\">\n",
       "  <thead>\n",
       "    <tr style=\"text-align: right;\">\n",
       "      <th></th>\n",
       "      <th>Destination_Port</th>\n",
       "      <th>Flow_Duration</th>\n",
       "      <th>Total_Fwd_Packets</th>\n",
       "      <th>Total_Backward_Packets</th>\n",
       "      <th>Total_Length_of_Fwd_Packets</th>\n",
       "      <th>Total_Length_of_Bwd_Packets</th>\n",
       "      <th>Fwd_Packet_Length_Max</th>\n",
       "      <th>Fwd_Packet_Length_Min</th>\n",
       "      <th>Fwd_Packet_Length_Mean</th>\n",
       "      <th>Fwd_Packet_Length_Std</th>\n",
       "      <th>...</th>\n",
       "      <th>min_seg_size_forward</th>\n",
       "      <th>Active_Mean</th>\n",
       "      <th>Active_Std</th>\n",
       "      <th>Active_Max</th>\n",
       "      <th>Active_Min</th>\n",
       "      <th>Idle_Mean</th>\n",
       "      <th>Idle_Std</th>\n",
       "      <th>Idle_Max</th>\n",
       "      <th>Idle_Min</th>\n",
       "      <th>Label</th>\n",
       "    </tr>\n",
       "  </thead>\n",
       "  <tbody>\n",
       "    <tr>\n",
       "      <th>0</th>\n",
       "      <td>54865</td>\n",
       "      <td>3</td>\n",
       "      <td>2</td>\n",
       "      <td>0</td>\n",
       "      <td>12</td>\n",
       "      <td>0</td>\n",
       "      <td>6</td>\n",
       "      <td>6</td>\n",
       "      <td>6.0</td>\n",
       "      <td>0.0</td>\n",
       "      <td>...</td>\n",
       "      <td>20</td>\n",
       "      <td>0.0</td>\n",
       "      <td>0.0</td>\n",
       "      <td>0</td>\n",
       "      <td>0</td>\n",
       "      <td>0.0</td>\n",
       "      <td>0.0</td>\n",
       "      <td>0</td>\n",
       "      <td>0</td>\n",
       "      <td>BENIGN</td>\n",
       "    </tr>\n",
       "    <tr>\n",
       "      <th>1</th>\n",
       "      <td>55054</td>\n",
       "      <td>109</td>\n",
       "      <td>1</td>\n",
       "      <td>1</td>\n",
       "      <td>6</td>\n",
       "      <td>6</td>\n",
       "      <td>6</td>\n",
       "      <td>6</td>\n",
       "      <td>6.0</td>\n",
       "      <td>0.0</td>\n",
       "      <td>...</td>\n",
       "      <td>20</td>\n",
       "      <td>0.0</td>\n",
       "      <td>0.0</td>\n",
       "      <td>0</td>\n",
       "      <td>0</td>\n",
       "      <td>0.0</td>\n",
       "      <td>0.0</td>\n",
       "      <td>0</td>\n",
       "      <td>0</td>\n",
       "      <td>BENIGN</td>\n",
       "    </tr>\n",
       "    <tr>\n",
       "      <th>2</th>\n",
       "      <td>55055</td>\n",
       "      <td>52</td>\n",
       "      <td>1</td>\n",
       "      <td>1</td>\n",
       "      <td>6</td>\n",
       "      <td>6</td>\n",
       "      <td>6</td>\n",
       "      <td>6</td>\n",
       "      <td>6.0</td>\n",
       "      <td>0.0</td>\n",
       "      <td>...</td>\n",
       "      <td>20</td>\n",
       "      <td>0.0</td>\n",
       "      <td>0.0</td>\n",
       "      <td>0</td>\n",
       "      <td>0</td>\n",
       "      <td>0.0</td>\n",
       "      <td>0.0</td>\n",
       "      <td>0</td>\n",
       "      <td>0</td>\n",
       "      <td>BENIGN</td>\n",
       "    </tr>\n",
       "    <tr>\n",
       "      <th>3</th>\n",
       "      <td>46236</td>\n",
       "      <td>34</td>\n",
       "      <td>1</td>\n",
       "      <td>1</td>\n",
       "      <td>6</td>\n",
       "      <td>6</td>\n",
       "      <td>6</td>\n",
       "      <td>6</td>\n",
       "      <td>6.0</td>\n",
       "      <td>0.0</td>\n",
       "      <td>...</td>\n",
       "      <td>20</td>\n",
       "      <td>0.0</td>\n",
       "      <td>0.0</td>\n",
       "      <td>0</td>\n",
       "      <td>0</td>\n",
       "      <td>0.0</td>\n",
       "      <td>0.0</td>\n",
       "      <td>0</td>\n",
       "      <td>0</td>\n",
       "      <td>BENIGN</td>\n",
       "    </tr>\n",
       "    <tr>\n",
       "      <th>4</th>\n",
       "      <td>54863</td>\n",
       "      <td>3</td>\n",
       "      <td>2</td>\n",
       "      <td>0</td>\n",
       "      <td>12</td>\n",
       "      <td>0</td>\n",
       "      <td>6</td>\n",
       "      <td>6</td>\n",
       "      <td>6.0</td>\n",
       "      <td>0.0</td>\n",
       "      <td>...</td>\n",
       "      <td>20</td>\n",
       "      <td>0.0</td>\n",
       "      <td>0.0</td>\n",
       "      <td>0</td>\n",
       "      <td>0</td>\n",
       "      <td>0.0</td>\n",
       "      <td>0.0</td>\n",
       "      <td>0</td>\n",
       "      <td>0</td>\n",
       "      <td>BENIGN</td>\n",
       "    </tr>\n",
       "  </tbody>\n",
       "</table>\n",
       "<p>5 rows × 79 columns</p>\n",
       "</div>"
      ],
      "text/plain": [
       "   Destination_Port  Flow_Duration  Total_Fwd_Packets  Total_Backward_Packets  \\\n",
       "0             54865              3                  2                       0   \n",
       "1             55054            109                  1                       1   \n",
       "2             55055             52                  1                       1   \n",
       "3             46236             34                  1                       1   \n",
       "4             54863              3                  2                       0   \n",
       "\n",
       "   Total_Length_of_Fwd_Packets  Total_Length_of_Bwd_Packets  \\\n",
       "0                           12                            0   \n",
       "1                            6                            6   \n",
       "2                            6                            6   \n",
       "3                            6                            6   \n",
       "4                           12                            0   \n",
       "\n",
       "   Fwd_Packet_Length_Max  Fwd_Packet_Length_Min  Fwd_Packet_Length_Mean  \\\n",
       "0                      6                      6                     6.0   \n",
       "1                      6                      6                     6.0   \n",
       "2                      6                      6                     6.0   \n",
       "3                      6                      6                     6.0   \n",
       "4                      6                      6                     6.0   \n",
       "\n",
       "   Fwd_Packet_Length_Std  ...  min_seg_size_forward  Active_Mean  Active_Std  \\\n",
       "0                    0.0  ...                    20          0.0         0.0   \n",
       "1                    0.0  ...                    20          0.0         0.0   \n",
       "2                    0.0  ...                    20          0.0         0.0   \n",
       "3                    0.0  ...                    20          0.0         0.0   \n",
       "4                    0.0  ...                    20          0.0         0.0   \n",
       "\n",
       "   Active_Max  Active_Min  Idle_Mean  Idle_Std  Idle_Max  Idle_Min   Label  \n",
       "0           0           0        0.0       0.0         0         0  BENIGN  \n",
       "1           0           0        0.0       0.0         0         0  BENIGN  \n",
       "2           0           0        0.0       0.0         0         0  BENIGN  \n",
       "3           0           0        0.0       0.0         0         0  BENIGN  \n",
       "4           0           0        0.0       0.0         0         0  BENIGN  \n",
       "\n",
       "[5 rows x 79 columns]"
      ]
     },
     "execution_count": 5,
     "metadata": {},
     "output_type": "execute_result"
    }
   ],
   "source": [
    "df_train.head()"
   ]
  },
  {
   "cell_type": "code",
   "execution_count": 6,
   "id": "70198b22",
   "metadata": {},
   "outputs": [
    {
     "data": {
      "text/plain": [
       "(225745, 79)"
      ]
     },
     "execution_count": 6,
     "metadata": {},
     "output_type": "execute_result"
    }
   ],
   "source": [
    "df_train.shape"
   ]
  },
  {
   "cell_type": "code",
   "execution_count": 7,
   "id": "30b124fc",
   "metadata": {},
   "outputs": [
    {
     "data": {
      "text/plain": [
       "Index(['Destination_Port', 'Flow_Duration', 'Total_Fwd_Packets',\n",
       "       'Total_Backward_Packets', 'Total_Length_of_Fwd_Packets',\n",
       "       'Total_Length_of_Bwd_Packets', 'Fwd_Packet_Length_Max',\n",
       "       'Fwd_Packet_Length_Min', 'Fwd_Packet_Length_Mean',\n",
       "       'Fwd_Packet_Length_Std', 'Bwd_Packet_Length_Max',\n",
       "       'Bwd_Packet_Length_Min', 'Bwd_Packet_Length_Mean',\n",
       "       'Bwd_Packet_Length_Std', 'Flow_Bytes', 'Flow_Packets', 'Flow_IAT_Mean',\n",
       "       'Flow_IAT_Std', 'Flow_IAT_Max', 'Flow_IAT_Min', 'Fwd_IAT_Total',\n",
       "       'Fwd_IAT_Mean', 'Fwd_IAT_Std', 'Fwd_IAT_Max', 'Fwd_IAT_Min',\n",
       "       'Bwd_IAT_Total', 'Bwd_IAT_Mean', 'Bwd_IAT_Std', 'Bwd_IAT_Max',\n",
       "       'Bwd_IAT_Min', 'Fwd_PSH_Flags', 'Bwd_PSH_Flags', 'Fwd_URG_Flags',\n",
       "       'Bwd_URG_Flags', 'Fwd_Header_Length', 'Bwd_Header_Length',\n",
       "       'Fwd_Packets', 'Bwd_Packets', 'Min_Packet_Length', 'Max_Packet_Length',\n",
       "       'Packet_Length_Mean', 'Packet_Length_Std', 'Packet_Length_Variance',\n",
       "       'FIN-Flag_Count', 'SYN_Flag_Count', 'RST_Flag_Count', 'PSH_Flag_Count',\n",
       "       'ACK_Flag_Count', 'URG_Flag_Count', 'CWE_Flag_Count', 'ECE_Flag_Count',\n",
       "       'Down/Up_Ratio', 'Average_Packet_Size', 'Avg_Fwd_Segment_Size',\n",
       "       'Avg_Bwd_Segment_Size', 'Fwd_Hea_er_Length_1', 'Fwd_Avg-Bytes/Bulk',\n",
       "       'Fwd_Avg_Packets/Bulk', 'Fwd_Avg_Bulk Rate', 'Bwd_Avg_Bytes/Bulk',\n",
       "       'Bwd_Avg_Packets/Bulk', 'Bwd_Avg_Bulk_Rate', 'Subflow_Fwd_Packets',\n",
       "       'Subflow_Fwd_Bytes', 'Subflow_Bwd_Packets', 'Subflow_Bwd_Bytes',\n",
       "       'Init_Win_bytes_forward', 'Init_Win_bytes_backward', 'act_data_pkt_fwd',\n",
       "       'min_seg_size_forward', 'Active_Mean', 'Active_Std', 'Active_Max',\n",
       "       'Active_Min', 'Idle_Mean', 'Idle_Std', 'Idle_Max', 'Idle_Min', 'Label'],\n",
       "      dtype='object')"
      ]
     },
     "execution_count": 7,
     "metadata": {},
     "output_type": "execute_result"
    }
   ],
   "source": [
    "df_train.columns"
   ]
  },
  {
   "cell_type": "code",
   "execution_count": 8,
   "id": "12d4ff5e",
   "metadata": {},
   "outputs": [
    {
     "data": {
      "text/plain": [
       "0         BENIGN\n",
       "1         BENIGN\n",
       "2         BENIGN\n",
       "3         BENIGN\n",
       "4         BENIGN\n",
       "           ...  \n",
       "225740    BENIGN\n",
       "225741    BENIGN\n",
       "225742    BENIGN\n",
       "225743    BENIGN\n",
       "225744    BENIGN\n",
       "Name: Label, Length: 225745, dtype: object"
      ]
     },
     "execution_count": 8,
     "metadata": {},
     "output_type": "execute_result"
    }
   ],
   "source": [
    "df_train.iloc[:,-1]"
   ]
  },
  {
   "cell_type": "code",
   "execution_count": 9,
   "id": "c101c124",
   "metadata": {},
   "outputs": [
    {
     "data": {
      "text/plain": [
       "DDoS      128027\n",
       "BENIGN     97718\n",
       "Name: Label, dtype: int64"
      ]
     },
     "execution_count": 9,
     "metadata": {},
     "output_type": "execute_result"
    }
   ],
   "source": [
    "df_train['Label'].value_counts()"
   ]
  },
  {
   "cell_type": "code",
   "execution_count": 10,
   "id": "75c54fa8",
   "metadata": {},
   "outputs": [
    {
     "name": "stderr",
     "output_type": "stream",
     "text": [
      "C:\\ProgramData\\Anaconda3\\lib\\site-packages\\seaborn\\_decorators.py:36: FutureWarning: Pass the following variable as a keyword arg: x. From version 0.12, the only valid positional argument will be `data`, and passing other arguments without an explicit keyword will result in an error or misinterpretation.\n",
      "  warnings.warn(\n"
     ]
    },
    {
     "data": {
      "text/plain": [
       "<AxesSubplot:xlabel='Label', ylabel='count'>"
      ]
     },
     "execution_count": 10,
     "metadata": {},
     "output_type": "execute_result"
    },
    {
     "data": {
      "image/png": "[encoded data removed]",
      "text/plain": [
       "<Figure size 640x480 with 1 Axes>"
      ]
     },
     "metadata": {},
     "output_type": "display_data"
    }
   ],
   "source": [
    "sns.countplot(df_train['Label'] , palette = 'Set2')"
   ]
  },
  {
   "cell_type": "code",
   "execution_count": 11,
   "id": "34fba172",
   "metadata": {},
   "outputs": [
    {
     "name": "stdout",
     "output_type": "stream",
     "text": [
      "<class 'pandas.core.frame.DataFrame'>\n",
      "RangeIndex: 225745 entries, 0 to 225744\n",
      "Data columns (total 79 columns):\n",
      " #   Column                       Non-Null Count   Dtype  \n",
      "---  ------                       --------------   -----  \n",
      " 0   Destination_Port             225745 non-null  int64  \n",
      " 1   Flow_Duration                225745 non-null  int64  \n",
      " 2   Total_Fwd_Packets            225745 non-null  int64  \n",
      " 3   Total_Backward_Packets       225745 non-null  int64  \n",
      " 4   Total_Length_of_Fwd_Packets  225745 non-null  int64  \n",
      " 5   Total_Length_of_Bwd_Packets  225745 non-null  int64  \n",
      " 6   Fwd_Packet_Length_Max        225745 non-null  int64  \n",
      " 7   Fwd_Packet_Length_Min        225745 non-null  int64  \n",
      " 8   Fwd_Packet_Length_Mean       225745 non-null  float64\n",
      " 9   Fwd_Packet_Length_Std        225745 non-null  float64\n",
      " 10  Bwd_Packet_Length_Max        225745 non-null  int64  \n",
      " 11  Bwd_Packet_Length_Min        225745 non-null  int64  \n",
      " 12  Bwd_Packet_Length_Mean       225745 non-null  float64\n",
      " 13  Bwd_Packet_Length_Std        225745 non-null  float64\n",
      " 14  Flow_Bytes                   225741 non-null  float64\n",
      " 15  Flow_Packets                 225745 non-null  float64\n",
      " 16  Flow_IAT_Mean                225745 non-null  float64\n",
      " 17  Flow_IAT_Std                 225745 non-null  float64\n",
      " 18  Flow_IAT_Max                 225745 non-null  int64  \n",
      " 19  Flow_IAT_Min                 225745 non-null  int64  \n",
      " 20  Fwd_IAT_Total                225745 non-null  int64  \n",
      " 21  Fwd_IAT_Mean                 225745 non-null  float64\n",
      " 22  Fwd_IAT_Std                  225745 non-null  float64\n",
      " 23  Fwd_IAT_Max                  225745 non-null  int64  \n",
      " 24  Fwd_IAT_Min                  225745 non-null  int64  \n",
      " 25  Bwd_IAT_Total                225745 non-null  int64  \n",
      " 26  Bwd_IAT_Mean                 225745 non-null  float64\n",
      " 27  Bwd_IAT_Std                  225745 non-null  float64\n",
      " 28  Bwd_IAT_Max                  225745 non-null  int64  \n",
      " 29  Bwd_IAT_Min                  225745 non-null  int64  \n",
      " 30  Fwd_PSH_Flags                225745 non-null  int64  \n",
      " 31  Bwd_PSH_Flags                225745 non-null  int64  \n",
      " 32  Fwd_URG_Flags                225745 non-null  int64  \n",
      " 33  Bwd_URG_Flags                225745 non-null  int64  \n",
      " 34  Fwd_Header_Length            225745 non-null  int64  \n",
      " 35  Bwd_Header_Length            225745 non-null  int64  \n",
      " 36  Fwd_Packets                  225745 non-null  float64\n",
      " 37  Bwd_Packets                  225745 non-null  float64\n",
      " 38  Min_Packet_Length            225745 non-null  int64  \n",
      " 39  Max_Packet_Length            225745 non-null  int64  \n",
      " 40  Packet_Length_Mean           225745 non-null  float64\n",
      " 41  Packet_Length_Std            225745 non-null  float64\n",
      " 42  Packet_Length_Variance       225745 non-null  float64\n",
      " 43  FIN-Flag_Count               225745 non-null  int64  \n",
      " 44  SYN_Flag_Count               225745 non-null  int64  \n",
      " 45  RST_Flag_Count               225745 non-null  int64  \n",
      " 46  PSH_Flag_Count               225745 non-null  int64  \n",
      " 47  ACK_Flag_Count               225745 non-null  int64  \n",
      " 48  URG_Flag_Count               225745 non-null  int64  \n",
      " 49  CWE_Flag_Count               225745 non-null  int64  \n",
      " 50  ECE_Flag_Count               225745 non-null  int64  \n",
      " 51  Down/Up_Ratio                225745 non-null  int64  \n",
      " 52  Average_Packet_Size          225745 non-null  float64\n",
      " 53  Avg_Fwd_Segment_Size         225745 non-null  float64\n",
      " 54  Avg_Bwd_Segment_Size         225745 non-null  float64\n",
      " 55  Fwd_Hea_er_Length_1          225745 non-null  int64  \n",
      " 56  Fwd_Avg-Bytes/Bulk           225745 non-null  int64  \n",
      " 57  Fwd_Avg_Packets/Bulk         225745 non-null  int64  \n",
      " 58  Fwd_Avg_Bulk Rate            225745 non-null  int64  \n",
      " 59  Bwd_Avg_Bytes/Bulk           225745 non-null  int64  \n",
      " 60  Bwd_Avg_Packets/Bulk         225745 non-null  int64  \n",
      " 61  Bwd_Avg_Bulk_Rate            225745 non-null  int64  \n",
      " 62  Subflow_Fwd_Packets          225745 non-null  int64  \n",
      " 63  Subflow_Fwd_Bytes            225745 non-null  int64  \n",
      " 64  Subflow_Bwd_Packets          225745 non-null  int64  \n",
      " 65  Subflow_Bwd_Bytes            225745 non-null  int64  \n",
      " 66  Init_Win_bytes_forward       225745 non-null  int64  \n",
      " 67  Init_Win_bytes_backward      225745 non-null  int64  \n",
      " 68  act_data_pkt_fwd             225745 non-null  int64  \n",
      " 69  min_seg_size_forward         225745 non-null  int64  \n",
      " 70  Active_Mean                  225745 non-null  float64\n",
      " 71  Active_Std                   225745 non-null  float64\n",
      " 72  Active_Max                   225745 non-null  int64  \n",
      " 73  Active_Min                   225745 non-null  int64  \n",
      " 74  Idle_Mean                    225745 non-null  float64\n",
      " 75  Idle_Std                     225745 non-null  float64\n",
      " 76  Idle_Max                     225745 non-null  int64  \n",
      " 77  Idle_Min                     225745 non-null  int64  \n",
      " 78  Label                        225745 non-null  object \n",
      "dtypes: float64(24), int64(54), object(1)\n",
      "memory usage: 136.1+ MB\n"
     ]
    }
   ],
   "source": [
    "df_train.info()"
   ]
  },
  {
   "cell_type": "code",
   "execution_count": 12,
   "id": "112d0500",
   "metadata": {},
   "outputs": [
    {
     "data": {
      "text/plain": [
       "True"
      ]
     },
     "execution_count": 12,
     "metadata": {},
     "output_type": "execute_result"
    }
   ],
   "source": [
    "df_train.isna().sum().any()"
   ]
  },
  {
   "cell_type": "code",
   "execution_count": 13,
   "id": "3bcfef04",
   "metadata": {},
   "outputs": [
    {
     "data": {
      "text/plain": [
       "Destination_Port               0\n",
       "Flow_Duration                  0\n",
       "Total_Fwd_Packets              0\n",
       "Total_Backward_Packets         0\n",
       "Total_Length_of_Fwd_Packets    0\n",
       "Total_Length_of_Bwd_Packets    0\n",
       "Fwd_Packet_Length_Max          0\n",
       "Fwd_Packet_Length_Min          0\n",
       "Fwd_Packet_Length_Mean         0\n",
       "Fwd_Packet_Length_Std          0\n",
       "Bwd_Packet_Length_Max          0\n",
       "Bwd_Packet_Length_Min          0\n",
       "Bwd_Packet_Length_Mean         0\n",
       "Bwd_Packet_Length_Std          0\n",
       "Flow_Bytes                     4\n",
       "Flow_Packets                   0\n",
       "Flow_IAT_Mean                  0\n",
       "Flow_IAT_Std                   0\n",
       "Flow_IAT_Max                   0\n",
       "Flow_IAT_Min                   0\n",
       "Fwd_IAT_Total                  0\n",
       "Fwd_IAT_Mean                   0\n",
       "Fwd_IAT_Std                    0\n",
       "Fwd_IAT_Max                    0\n",
       "Fwd_IAT_Min                    0\n",
       "Bwd_IAT_Total                  0\n",
       "Bwd_IAT_Mean                   0\n",
       "Bwd_IAT_Std                    0\n",
       "Bwd_IAT_Max                    0\n",
       "Bwd_IAT_Min                    0\n",
       "Fwd_PSH_Flags                  0\n",
       "Bwd_PSH_Flags                  0\n",
       "Fwd_URG_Flags                  0\n",
       "Bwd_URG_Flags                  0\n",
       "Fwd_Header_Length              0\n",
       "Bwd_Header_Length              0\n",
       "Fwd_Packets                    0\n",
       "Bwd_Packets                    0\n",
       "Min_Packet_Length              0\n",
       "Max_Packet_Length              0\n",
       "dtype: int64"
      ]
     },
     "execution_count": 13,
     "metadata": {},
     "output_type": "execute_result"
    }
   ],
   "source": [
    "df_train.iloc[:,0:40].isna().sum()"
   ]
  },
  {
   "cell_type": "code",
   "execution_count": 14,
   "id": "3343e6d0",
   "metadata": {},
   "outputs": [
    {
     "data": {
      "text/plain": [
       "Packet_Length_Mean         0\n",
       "Packet_Length_Std          0\n",
       "Packet_Length_Variance     0\n",
       "FIN-Flag_Count             0\n",
       "SYN_Flag_Count             0\n",
       "RST_Flag_Count             0\n",
       "PSH_Flag_Count             0\n",
       "ACK_Flag_Count             0\n",
       "URG_Flag_Count             0\n",
       "CWE_Flag_Count             0\n",
       "ECE_Flag_Count             0\n",
       "Down/Up_Ratio              0\n",
       "Average_Packet_Size        0\n",
       "Avg_Fwd_Segment_Size       0\n",
       "Avg_Bwd_Segment_Size       0\n",
       "Fwd_Hea_er_Length_1        0\n",
       "Fwd_Avg-Bytes/Bulk         0\n",
       "Fwd_Avg_Packets/Bulk       0\n",
       "Fwd_Avg_Bulk Rate          0\n",
       "Bwd_Avg_Bytes/Bulk         0\n",
       "Bwd_Avg_Packets/Bulk       0\n",
       "Bwd_Avg_Bulk_Rate          0\n",
       "Subflow_Fwd_Packets        0\n",
       "Subflow_Fwd_Bytes          0\n",
       "Subflow_Bwd_Packets        0\n",
       "Subflow_Bwd_Bytes          0\n",
       "Init_Win_bytes_forward     0\n",
       "Init_Win_bytes_backward    0\n",
       "act_data_pkt_fwd           0\n",
       "min_seg_size_forward       0\n",
       "Active_Mean                0\n",
       "Active_Std                 0\n",
       "Active_Max                 0\n",
       "Active_Min                 0\n",
       "Idle_Mean                  0\n",
       "Idle_Std                   0\n",
       "Idle_Max                   0\n",
       "Idle_Min                   0\n",
       "Label                      0\n",
       "dtype: int64"
      ]
     },
     "execution_count": 14,
     "metadata": {},
     "output_type": "execute_result"
    }
   ],
   "source": [
    "df_train.iloc[:,40:79].isna().sum()"
   ]
  },
  {
   "cell_type": "code",
   "execution_count": 15,
   "id": "0655dcad",
   "metadata": {},
   "outputs": [],
   "source": [
    "df = df_train.fillna(0)"
   ]
  },
  {
   "cell_type": "code",
   "execution_count": 16,
   "id": "c02bbb18",
   "metadata": {},
   "outputs": [
    {
     "data": {
      "text/html": [
       "<div>\n",
       "<style scoped>\n",
       "    .dataframe tbody tr th:only-of-type {\n",
       "        vertical-align: middle;\n",
       "    }\n",
       "\n",
       "    .dataframe tbody tr th {\n",
       "        vertical-align: top;\n",
       "    }\n",
       "\n",
       "    .dataframe thead th {\n",
       "        text-align: right;\n",
       "    }\n",
       "</style>\n",
       "<table border=\"1\" class=\"dataframe\">\n",
       "  <thead>\n",
       "    <tr style=\"text-align: right;\">\n",
       "      <th></th>\n",
       "      <th>Destination_Port</th>\n",
       "      <th>Flow_Duration</th>\n",
       "      <th>Total_Fwd_Packets</th>\n",
       "      <th>Total_Backward_Packets</th>\n",
       "      <th>Total_Length_of_Fwd_Packets</th>\n",
       "      <th>Total_Length_of_Bwd_Packets</th>\n",
       "      <th>Fwd_Packet_Length_Max</th>\n",
       "      <th>Fwd_Packet_Length_Min</th>\n",
       "      <th>Fwd_Packet_Length_Mean</th>\n",
       "      <th>Fwd_Packet_Length_Std</th>\n",
       "      <th>...</th>\n",
       "      <th>min_seg_size_forward</th>\n",
       "      <th>Active_Mean</th>\n",
       "      <th>Active_Std</th>\n",
       "      <th>Active_Max</th>\n",
       "      <th>Active_Min</th>\n",
       "      <th>Idle_Mean</th>\n",
       "      <th>Idle_Std</th>\n",
       "      <th>Idle_Max</th>\n",
       "      <th>Idle_Min</th>\n",
       "      <th>Label</th>\n",
       "    </tr>\n",
       "  </thead>\n",
       "  <tbody>\n",
       "    <tr>\n",
       "      <th>0</th>\n",
       "      <td>54865</td>\n",
       "      <td>3</td>\n",
       "      <td>2</td>\n",
       "      <td>0</td>\n",
       "      <td>12</td>\n",
       "      <td>0</td>\n",
       "      <td>6</td>\n",
       "      <td>6</td>\n",
       "      <td>6.0</td>\n",
       "      <td>0.0</td>\n",
       "      <td>...</td>\n",
       "      <td>20</td>\n",
       "      <td>0.0</td>\n",
       "      <td>0.0</td>\n",
       "      <td>0</td>\n",
       "      <td>0</td>\n",
       "      <td>0.0</td>\n",
       "      <td>0.0</td>\n",
       "      <td>0</td>\n",
       "      <td>0</td>\n",
       "      <td>BENIGN</td>\n",
       "    </tr>\n",
       "    <tr>\n",
       "      <th>1</th>\n",
       "      <td>55054</td>\n",
       "      <td>109</td>\n",
       "      <td>1</td>\n",
       "      <td>1</td>\n",
       "      <td>6</td>\n",
       "      <td>6</td>\n",
       "      <td>6</td>\n",
       "      <td>6</td>\n",
       "      <td>6.0</td>\n",
       "      <td>0.0</td>\n",
       "      <td>...</td>\n",
       "      <td>20</td>\n",
       "      <td>0.0</td>\n",
       "      <td>0.0</td>\n",
       "      <td>0</td>\n",
       "      <td>0</td>\n",
       "      <td>0.0</td>\n",
       "      <td>0.0</td>\n",
       "      <td>0</td>\n",
       "      <td>0</td>\n",
       "      <td>BENIGN</td>\n",
       "    </tr>\n",
       "    <tr>\n",
       "      <th>2</th>\n",
       "      <td>55055</td>\n",
       "      <td>52</td>\n",
       "      <td>1</td>\n",
       "      <td>1</td>\n",
       "      <td>6</td>\n",
       "      <td>6</td>\n",
       "      <td>6</td>\n",
       "      <td>6</td>\n",
       "      <td>6.0</td>\n",
       "      <td>0.0</td>\n",
       "      <td>...</td>\n",
       "      <td>20</td>\n",
       "      <td>0.0</td>\n",
       "      <td>0.0</td>\n",
       "      <td>0</td>\n",
       "      <td>0</td>\n",
       "      <td>0.0</td>\n",
       "      <td>0.0</td>\n",
       "      <td>0</td>\n",
       "      <td>0</td>\n",
       "      <td>BENIGN</td>\n",
       "    </tr>\n",
       "    <tr>\n",
       "      <th>3</th>\n",
       "      <td>46236</td>\n",
       "      <td>34</td>\n",
       "      <td>1</td>\n",
       "      <td>1</td>\n",
       "      <td>6</td>\n",
       "      <td>6</td>\n",
       "      <td>6</td>\n",
       "      <td>6</td>\n",
       "      <td>6.0</td>\n",
       "      <td>0.0</td>\n",
       "      <td>...</td>\n",
       "      <td>20</td>\n",
       "      <td>0.0</td>\n",
       "      <td>0.0</td>\n",
       "      <td>0</td>\n",
       "      <td>0</td>\n",
       "      <td>0.0</td>\n",
       "      <td>0.0</td>\n",
       "      <td>0</td>\n",
       "      <td>0</td>\n",
       "      <td>BENIGN</td>\n",
       "    </tr>\n",
       "    <tr>\n",
       "      <th>4</th>\n",
       "      <td>54863</td>\n",
       "      <td>3</td>\n",
       "      <td>2</td>\n",
       "      <td>0</td>\n",
       "      <td>12</td>\n",
       "      <td>0</td>\n",
       "      <td>6</td>\n",
       "      <td>6</td>\n",
       "      <td>6.0</td>\n",
       "      <td>0.0</td>\n",
       "      <td>...</td>\n",
       "      <td>20</td>\n",
       "      <td>0.0</td>\n",
       "      <td>0.0</td>\n",
       "      <td>0</td>\n",
       "      <td>0</td>\n",
       "      <td>0.0</td>\n",
       "      <td>0.0</td>\n",
       "      <td>0</td>\n",
       "      <td>0</td>\n",
       "      <td>BENIGN</td>\n",
       "    </tr>\n",
       "  </tbody>\n",
       "</table>\n",
       "<p>5 rows × 79 columns</p>\n",
       "</div>"
      ],
      "text/plain": [
       "   Destination_Port  Flow_Duration  Total_Fwd_Packets  Total_Backward_Packets  \\\n",
       "0             54865              3                  2                       0   \n",
       "1             55054            109                  1                       1   \n",
       "2             55055             52                  1                       1   \n",
       "3             46236             34                  1                       1   \n",
       "4             54863              3                  2                       0   \n",
       "\n",
       "   Total_Length_of_Fwd_Packets  Total_Length_of_Bwd_Packets  \\\n",
       "0                           12                            0   \n",
       "1                            6                            6   \n",
       "2                            6                            6   \n",
       "3                            6                            6   \n",
       "4                           12                            0   \n",
       "\n",
       "   Fwd_Packet_Length_Max  Fwd_Packet_Length_Min  Fwd_Packet_Length_Mean  \\\n",
       "0                      6                      6                     6.0   \n",
       "1                      6                      6                     6.0   \n",
       "2                      6                      6                     6.0   \n",
       "3                      6                      6                     6.0   \n",
       "4                      6                      6                     6.0   \n",
       "\n",
       "   Fwd_Packet_Length_Std  ...  min_seg_size_forward  Active_Mean  Active_Std  \\\n",
       "0                    0.0  ...                    20          0.0         0.0   \n",
       "1                    0.0  ...                    20          0.0         0.0   \n",
       "2                    0.0  ...                    20          0.0         0.0   \n",
       "3                    0.0  ...                    20          0.0         0.0   \n",
       "4                    0.0  ...                    20          0.0         0.0   \n",
       "\n",
       "   Active_Max  Active_Min  Idle_Mean  Idle_Std  Idle_Max  Idle_Min   Label  \n",
       "0           0           0        0.0       0.0         0         0  BENIGN  \n",
       "1           0           0        0.0       0.0         0         0  BENIGN  \n",
       "2           0           0        0.0       0.0         0         0  BENIGN  \n",
       "3           0           0        0.0       0.0         0         0  BENIGN  \n",
       "4           0           0        0.0       0.0         0         0  BENIGN  \n",
       "\n",
       "[5 rows x 79 columns]"
      ]
     },
     "execution_count": 16,
     "metadata": {},
     "output_type": "execute_result"
    }
   ],
   "source": [
    "df.head()"
   ]
  },
  {
   "cell_type": "code",
   "execution_count": 17,
   "id": "ad840cb3",
   "metadata": {},
   "outputs": [
    {
     "data": {
      "text/plain": [
       "False"
      ]
     },
     "execution_count": 17,
     "metadata": {},
     "output_type": "execute_result"
    }
   ],
   "source": [
    "df.isna().sum().any()"
   ]
  },
  {
   "cell_type": "code",
   "execution_count": null,
   "id": "d043c3c2",
   "metadata": {},
   "outputs": [],
   "source": []
  },
  {
   "cell_type": "code",
   "execution_count": null,
   "id": "ea7d8072",
   "metadata": {},
   "outputs": [],
   "source": []
  },
  {
   "cell_type": "code",
   "execution_count": 18,
   "id": "1374ee2c",
   "metadata": {},
   "outputs": [
    {
     "data": {
      "text/html": [
       "<div>\n",
       "<style scoped>\n",
       "    .dataframe tbody tr th:only-of-type {\n",
       "        vertical-align: middle;\n",
       "    }\n",
       "\n",
       "    .dataframe tbody tr th {\n",
       "        vertical-align: top;\n",
       "    }\n",
       "\n",
       "    .dataframe thead th {\n",
       "        text-align: right;\n",
       "    }\n",
       "</style>\n",
       "<table border=\"1\" class=\"dataframe\">\n",
       "  <thead>\n",
       "    <tr style=\"text-align: right;\">\n",
       "      <th></th>\n",
       "      <th>Destination_Port</th>\n",
       "      <th>Flow_Duration</th>\n",
       "      <th>Total_Fwd_Packets</th>\n",
       "      <th>Total_Backward_Packets</th>\n",
       "      <th>Total_Length_of_Fwd_Packets</th>\n",
       "      <th>Total_Length_of_Bwd_Packets</th>\n",
       "      <th>Fwd_Packet_Length_Max</th>\n",
       "      <th>Fwd_Packet_Length_Min</th>\n",
       "      <th>Fwd_Packet_Length_Mean</th>\n",
       "      <th>Fwd_Packet_Length_Std</th>\n",
       "      <th>...</th>\n",
       "      <th>act_data_pkt_fwd</th>\n",
       "      <th>min_seg_size_forward</th>\n",
       "      <th>Active_Mean</th>\n",
       "      <th>Active_Std</th>\n",
       "      <th>Active_Max</th>\n",
       "      <th>Active_Min</th>\n",
       "      <th>Idle_Mean</th>\n",
       "      <th>Idle_Std</th>\n",
       "      <th>Idle_Max</th>\n",
       "      <th>Idle_Min</th>\n",
       "    </tr>\n",
       "  </thead>\n",
       "  <tbody>\n",
       "    <tr>\n",
       "      <th>Destination_Port</th>\n",
       "      <td>1.000000</td>\n",
       "      <td>0.107038</td>\n",
       "      <td>-0.044270</td>\n",
       "      <td>0.008321</td>\n",
       "      <td>0.553843</td>\n",
       "      <td>-0.066648</td>\n",
       "      <td>0.604586</td>\n",
       "      <td>0.207158</td>\n",
       "      <td>0.658346</td>\n",
       "      <td>0.586255</td>\n",
       "      <td>...</td>\n",
       "      <td>-0.051366</td>\n",
       "      <td>-0.074278</td>\n",
       "      <td>0.061313</td>\n",
       "      <td>-0.026592</td>\n",
       "      <td>0.043156</td>\n",
       "      <td>0.066356</td>\n",
       "      <td>0.132272</td>\n",
       "      <td>0.110687</td>\n",
       "      <td>0.144428</td>\n",
       "      <td>0.095687</td>\n",
       "    </tr>\n",
       "    <tr>\n",
       "      <th>Flow_Duration</th>\n",
       "      <td>0.107038</td>\n",
       "      <td>1.000000</td>\n",
       "      <td>0.207660</td>\n",
       "      <td>0.145272</td>\n",
       "      <td>0.297832</td>\n",
       "      <td>0.088751</td>\n",
       "      <td>0.280808</td>\n",
       "      <td>-0.055700</td>\n",
       "      <td>0.257098</td>\n",
       "      <td>0.273820</td>\n",
       "      <td>...</td>\n",
       "      <td>0.194295</td>\n",
       "      <td>-0.112832</td>\n",
       "      <td>0.428397</td>\n",
       "      <td>0.148295</td>\n",
       "      <td>0.446759</td>\n",
       "      <td>0.413835</td>\n",
       "      <td>0.871855</td>\n",
       "      <td>0.630604</td>\n",
       "      <td>0.919199</td>\n",
       "      <td>0.672003</td>\n",
       "    </tr>\n",
       "    <tr>\n",
       "      <th>Total_Fwd_Packets</th>\n",
       "      <td>-0.044270</td>\n",
       "      <td>0.207660</td>\n",
       "      <td>1.000000</td>\n",
       "      <td>0.956714</td>\n",
       "      <td>0.174396</td>\n",
       "      <td>0.938470</td>\n",
       "      <td>0.041866</td>\n",
       "      <td>-0.038103</td>\n",
       "      <td>0.017458</td>\n",
       "      <td>0.030054</td>\n",
       "      <td>...</td>\n",
       "      <td>0.882270</td>\n",
       "      <td>-0.005388</td>\n",
       "      <td>0.135892</td>\n",
       "      <td>0.285131</td>\n",
       "      <td>0.223377</td>\n",
       "      <td>0.087692</td>\n",
       "      <td>0.110787</td>\n",
       "      <td>0.056807</td>\n",
       "      <td>0.109429</td>\n",
       "      <td>0.094747</td>\n",
       "    </tr>\n",
       "    <tr>\n",
       "      <th>Total_Backward_Packets</th>\n",
       "      <td>0.008321</td>\n",
       "      <td>0.145272</td>\n",
       "      <td>0.956714</td>\n",
       "      <td>1.000000</td>\n",
       "      <td>0.163495</td>\n",
       "      <td>0.970422</td>\n",
       "      <td>0.047501</td>\n",
       "      <td>-0.001468</td>\n",
       "      <td>0.032013</td>\n",
       "      <td>0.034200</td>\n",
       "      <td>...</td>\n",
       "      <td>0.865159</td>\n",
       "      <td>0.009922</td>\n",
       "      <td>0.099090</td>\n",
       "      <td>0.228430</td>\n",
       "      <td>0.164830</td>\n",
       "      <td>0.063551</td>\n",
       "      <td>0.065554</td>\n",
       "      <td>0.028627</td>\n",
       "      <td>0.062932</td>\n",
       "      <td>0.058056</td>\n",
       "    </tr>\n",
       "    <tr>\n",
       "      <th>Total_Length_of_Fwd_Packets</th>\n",
       "      <td>0.553843</td>\n",
       "      <td>0.297832</td>\n",
       "      <td>0.174396</td>\n",
       "      <td>0.163495</td>\n",
       "      <td>1.000000</td>\n",
       "      <td>0.067425</td>\n",
       "      <td>0.852427</td>\n",
       "      <td>0.004453</td>\n",
       "      <td>0.858439</td>\n",
       "      <td>0.839139</td>\n",
       "      <td>...</td>\n",
       "      <td>0.161399</td>\n",
       "      <td>-0.048262</td>\n",
       "      <td>0.185853</td>\n",
       "      <td>0.106051</td>\n",
       "      <td>0.203046</td>\n",
       "      <td>0.171280</td>\n",
       "      <td>0.261110</td>\n",
       "      <td>0.216771</td>\n",
       "      <td>0.284694</td>\n",
       "      <td>0.188569</td>\n",
       "    </tr>\n",
       "    <tr>\n",
       "      <th>...</th>\n",
       "      <td>...</td>\n",
       "      <td>...</td>\n",
       "      <td>...</td>\n",
       "      <td>...</td>\n",
       "      <td>...</td>\n",
       "      <td>...</td>\n",
       "      <td>...</td>\n",
       "      <td>...</td>\n",
       "      <td>...</td>\n",
       "      <td>...</td>\n",
       "      <td>...</td>\n",
       "      <td>...</td>\n",
       "      <td>...</td>\n",
       "      <td>...</td>\n",
       "      <td>...</td>\n",
       "      <td>...</td>\n",
       "      <td>...</td>\n",
       "      <td>...</td>\n",
       "      <td>...</td>\n",
       "      <td>...</td>\n",
       "      <td>...</td>\n",
       "    </tr>\n",
       "    <tr>\n",
       "      <th>Active_Min</th>\n",
       "      <td>0.066356</td>\n",
       "      <td>0.413835</td>\n",
       "      <td>0.087692</td>\n",
       "      <td>0.063551</td>\n",
       "      <td>0.171280</td>\n",
       "      <td>0.046830</td>\n",
       "      <td>0.156816</td>\n",
       "      <td>-0.035780</td>\n",
       "      <td>0.148842</td>\n",
       "      <td>0.156675</td>\n",
       "      <td>...</td>\n",
       "      <td>0.082623</td>\n",
       "      <td>-0.055221</td>\n",
       "      <td>0.982673</td>\n",
       "      <td>-0.003429</td>\n",
       "      <td>0.868071</td>\n",
       "      <td>1.000000</td>\n",
       "      <td>0.602021</td>\n",
       "      <td>-0.058847</td>\n",
       "      <td>0.469089</td>\n",
       "      <td>0.690201</td>\n",
       "    </tr>\n",
       "    <tr>\n",
       "      <th>Idle_Mean</th>\n",
       "      <td>0.132272</td>\n",
       "      <td>0.871855</td>\n",
       "      <td>0.110787</td>\n",
       "      <td>0.065554</td>\n",
       "      <td>0.261110</td>\n",
       "      <td>0.042256</td>\n",
       "      <td>0.272060</td>\n",
       "      <td>-0.039715</td>\n",
       "      <td>0.262143</td>\n",
       "      <td>0.270210</td>\n",
       "      <td>...</td>\n",
       "      <td>0.114726</td>\n",
       "      <td>-0.139772</td>\n",
       "      <td>0.595859</td>\n",
       "      <td>0.022025</td>\n",
       "      <td>0.531538</td>\n",
       "      <td>0.602021</td>\n",
       "      <td>1.000000</td>\n",
       "      <td>0.420170</td>\n",
       "      <td>0.952585</td>\n",
       "      <td>0.910822</td>\n",
       "    </tr>\n",
       "    <tr>\n",
       "      <th>Idle_Std</th>\n",
       "      <td>0.110687</td>\n",
       "      <td>0.630604</td>\n",
       "      <td>0.056807</td>\n",
       "      <td>0.028627</td>\n",
       "      <td>0.216771</td>\n",
       "      <td>0.020081</td>\n",
       "      <td>0.230387</td>\n",
       "      <td>-0.048230</td>\n",
       "      <td>0.223047</td>\n",
       "      <td>0.232630</td>\n",
       "      <td>...</td>\n",
       "      <td>0.059977</td>\n",
       "      <td>-0.099363</td>\n",
       "      <td>-0.057820</td>\n",
       "      <td>-0.003866</td>\n",
       "      <td>-0.055222</td>\n",
       "      <td>-0.058847</td>\n",
       "      <td>0.420170</td>\n",
       "      <td>1.000000</td>\n",
       "      <td>0.676276</td>\n",
       "      <td>0.008218</td>\n",
       "    </tr>\n",
       "    <tr>\n",
       "      <th>Idle_Max</th>\n",
       "      <td>0.144428</td>\n",
       "      <td>0.919199</td>\n",
       "      <td>0.109429</td>\n",
       "      <td>0.062932</td>\n",
       "      <td>0.284694</td>\n",
       "      <td>0.041055</td>\n",
       "      <td>0.298035</td>\n",
       "      <td>-0.048410</td>\n",
       "      <td>0.287524</td>\n",
       "      <td>0.297282</td>\n",
       "      <td>...</td>\n",
       "      <td>0.113394</td>\n",
       "      <td>-0.146873</td>\n",
       "      <td>0.464725</td>\n",
       "      <td>0.017842</td>\n",
       "      <td>0.413812</td>\n",
       "      <td>0.469089</td>\n",
       "      <td>0.952585</td>\n",
       "      <td>0.676276</td>\n",
       "      <td>1.000000</td>\n",
       "      <td>0.742109</td>\n",
       "    </tr>\n",
       "    <tr>\n",
       "      <th>Idle_Min</th>\n",
       "      <td>0.095687</td>\n",
       "      <td>0.672003</td>\n",
       "      <td>0.094747</td>\n",
       "      <td>0.058056</td>\n",
       "      <td>0.188569</td>\n",
       "      <td>0.036789</td>\n",
       "      <td>0.194918</td>\n",
       "      <td>-0.021718</td>\n",
       "      <td>0.187498</td>\n",
       "      <td>0.191951</td>\n",
       "      <td>...</td>\n",
       "      <td>0.097977</td>\n",
       "      <td>-0.109090</td>\n",
       "      <td>0.682722</td>\n",
       "      <td>0.024496</td>\n",
       "      <td>0.609839</td>\n",
       "      <td>0.690201</td>\n",
       "      <td>0.910822</td>\n",
       "      <td>0.008218</td>\n",
       "      <td>0.742109</td>\n",
       "      <td>1.000000</td>\n",
       "    </tr>\n",
       "  </tbody>\n",
       "</table>\n",
       "<p>78 rows × 78 columns</p>\n",
       "</div>"
      ],
      "text/plain": [
       "                             Destination_Port  Flow_Duration  \\\n",
       "Destination_Port                     1.000000       0.107038   \n",
       "Flow_Duration                        0.107038       1.000000   \n",
       "Total_Fwd_Packets                   -0.044270       0.207660   \n",
       "Total_Backward_Packets               0.008321       0.145272   \n",
       "Total_Length_of_Fwd_Packets          0.553843       0.297832   \n",
       "...                                       ...            ...   \n",
       "Active_Min                           0.066356       0.413835   \n",
       "Idle_Mean                            0.132272       0.871855   \n",
       "Idle_Std                             0.110687       0.630604   \n",
       "Idle_Max                             0.144428       0.919199   \n",
       "Idle_Min                             0.095687       0.672003   \n",
       "\n",
       "                             Total_Fwd_Packets  Total_Backward_Packets  \\\n",
       "Destination_Port                     -0.044270                0.008321   \n",
       "Flow_Duration                         0.207660                0.145272   \n",
       "Total_Fwd_Packets                     1.000000                0.956714   \n",
       "Total_Backward_Packets                0.956714                1.000000   \n",
       "Total_Length_of_Fwd_Packets           0.174396                0.163495   \n",
       "...                                        ...                     ...   \n",
       "Active_Min                            0.087692                0.063551   \n",
       "Idle_Mean                             0.110787                0.065554   \n",
       "Idle_Std                              0.056807                0.028627   \n",
       "Idle_Max                              0.109429                0.062932   \n",
       "Idle_Min                              0.094747                0.058056   \n",
       "\n",
       "                             Total_Length_of_Fwd_Packets  \\\n",
       "Destination_Port                                0.553843   \n",
       "Flow_Duration                                   0.297832   \n",
       "Total_Fwd_Packets                               0.174396   \n",
       "Total_Backward_Packets                          0.163495   \n",
       "Total_Length_of_Fwd_Packets                     1.000000   \n",
       "...                                                  ...   \n",
       "Active_Min                                      0.171280   \n",
       "Idle_Mean                                       0.261110   \n",
       "Idle_Std                                        0.216771   \n",
       "Idle_Max                                        0.284694   \n",
       "Idle_Min                                        0.188569   \n",
       "\n",
       "                             Total_Length_of_Bwd_Packets  \\\n",
       "Destination_Port                               -0.066648   \n",
       "Flow_Duration                                   0.088751   \n",
       "Total_Fwd_Packets                               0.938470   \n",
       "Total_Backward_Packets                          0.970422   \n",
       "Total_Length_of_Fwd_Packets                     0.067425   \n",
       "...                                                  ...   \n",
       "Active_Min                                      0.046830   \n",
       "Idle_Mean                                       0.042256   \n",
       "Idle_Std                                        0.020081   \n",
       "Idle_Max                                        0.041055   \n",
       "Idle_Min                                        0.036789   \n",
       "\n",
       "                             Fwd_Packet_Length_Max  Fwd_Packet_Length_Min  \\\n",
       "Destination_Port                          0.604586               0.207158   \n",
       "Flow_Duration                             0.280808              -0.055700   \n",
       "Total_Fwd_Packets                         0.041866              -0.038103   \n",
       "Total_Backward_Packets                    0.047501              -0.001468   \n",
       "Total_Length_of_Fwd_Packets               0.852427               0.004453   \n",
       "...                                            ...                    ...   \n",
       "Active_Min                                0.156816              -0.035780   \n",
       "Idle_Mean                                 0.272060              -0.039715   \n",
       "Idle_Std                                  0.230387              -0.048230   \n",
       "Idle_Max                                  0.298035              -0.048410   \n",
       "Idle_Min                                  0.194918              -0.021718   \n",
       "\n",
       "                             Fwd_Packet_Length_Mean  Fwd_Packet_Length_Std  \\\n",
       "Destination_Port                           0.658346               0.586255   \n",
       "Flow_Duration                              0.257098               0.273820   \n",
       "Total_Fwd_Packets                          0.017458               0.030054   \n",
       "Total_Backward_Packets                     0.032013               0.034200   \n",
       "Total_Length_of_Fwd_Packets                0.858439               0.839139   \n",
       "...                                             ...                    ...   \n",
       "Active_Min                                 0.148842               0.156675   \n",
       "Idle_Mean                                  0.262143               0.270210   \n",
       "Idle_Std                                   0.223047               0.232630   \n",
       "Idle_Max                                   0.287524               0.297282   \n",
       "Idle_Min                                   0.187498               0.191951   \n",
       "\n",
       "                             ...  act_data_pkt_fwd  min_seg_size_forward  \\\n",
       "Destination_Port             ...         -0.051366             -0.074278   \n",
       "Flow_Duration                ...          0.194295             -0.112832   \n",
       "Total_Fwd_Packets            ...          0.882270             -0.005388   \n",
       "Total_Backward_Packets       ...          0.865159              0.009922   \n",
       "Total_Length_of_Fwd_Packets  ...          0.161399             -0.048262   \n",
       "...                          ...               ...                   ...   \n",
       "Active_Min                   ...          0.082623             -0.055221   \n",
       "Idle_Mean                    ...          0.114726             -0.139772   \n",
       "Idle_Std                     ...          0.059977             -0.099363   \n",
       "Idle_Max                     ...          0.113394             -0.146873   \n",
       "Idle_Min                     ...          0.097977             -0.109090   \n",
       "\n",
       "                             Active_Mean  Active_Std  Active_Max  Active_Min  \\\n",
       "Destination_Port                0.061313   -0.026592    0.043156    0.066356   \n",
       "Flow_Duration                   0.428397    0.148295    0.446759    0.413835   \n",
       "Total_Fwd_Packets               0.135892    0.285131    0.223377    0.087692   \n",
       "Total_Backward_Packets          0.099090    0.228430    0.164830    0.063551   \n",
       "Total_Length_of_Fwd_Packets     0.185853    0.106051    0.203046    0.171280   \n",
       "...                                  ...         ...         ...         ...   \n",
       "Active_Min                      0.982673   -0.003429    0.868071    1.000000   \n",
       "Idle_Mean                       0.595859    0.022025    0.531538    0.602021   \n",
       "Idle_Std                       -0.057820   -0.003866   -0.055222   -0.058847   \n",
       "Idle_Max                        0.464725    0.017842    0.413812    0.469089   \n",
       "Idle_Min                        0.682722    0.024496    0.609839    0.690201   \n",
       "\n",
       "                             Idle_Mean  Idle_Std  Idle_Max  Idle_Min  \n",
       "Destination_Port              0.132272  0.110687  0.144428  0.095687  \n",
       "Flow_Duration                 0.871855  0.630604  0.919199  0.672003  \n",
       "Total_Fwd_Packets             0.110787  0.056807  0.109429  0.094747  \n",
       "Total_Backward_Packets        0.065554  0.028627  0.062932  0.058056  \n",
       "Total_Length_of_Fwd_Packets   0.261110  0.216771  0.284694  0.188569  \n",
       "...                                ...       ...       ...       ...  \n",
       "Active_Min                    0.602021 -0.058847  0.469089  0.690201  \n",
       "Idle_Mean                     1.000000  0.420170  0.952585  0.910822  \n",
       "Idle_Std                      0.420170  1.000000  0.676276  0.008218  \n",
       "Idle_Max                      0.952585  0.676276  1.000000  0.742109  \n",
       "Idle_Min                      0.910822  0.008218  0.742109  1.000000  \n",
       "\n",
       "[78 rows x 78 columns]"
      ]
     },
     "execution_count": 18,
     "metadata": {},
     "output_type": "execute_result"
    }
   ],
   "source": [
    "corr = df.corr()\n",
    "corr"
   ]
  },
  {
   "cell_type": "code",
   "execution_count": 19,
   "id": "96c021a3",
   "metadata": {},
   "outputs": [
    {
     "data": {
      "image/png": "[encoded data removed]",
      "text/plain": [
       "<Figure size 1500x1200 with 2 Axes>"
      ]
     },
     "metadata": {},
     "output_type": "display_data"
    }
   ],
   "source": [
    "corr = df_train.corr()\n",
    "\n",
    "plt.figure(figsize=(15,12))\n",
    "\n",
    "sns.heatmap(corr)\n",
    "\n",
    "plt.show()"
   ]
  },
  {
   "cell_type": "code",
   "execution_count": 20,
   "id": "e0f0b41b",
   "metadata": {},
   "outputs": [],
   "source": [
    "df.drop('Fwd_URG_Flags',axis = 1,inplace=True)\n",
    "\n"
   ]
  },
  {
   "cell_type": "code",
   "execution_count": 21,
   "id": "19a7ae87",
   "metadata": {},
   "outputs": [
    {
     "data": {
      "text/plain": [
       "(225745, 78)"
      ]
     },
     "execution_count": 21,
     "metadata": {},
     "output_type": "execute_result"
    }
   ],
   "source": [
    "df.shape"
   ]
  },
  {
   "cell_type": "code",
   "execution_count": 22,
   "id": "5bd644f7",
   "metadata": {},
   "outputs": [],
   "source": [
    "df.drop('Fwd_Avg-Bytes/Bulk',axis = 1,inplace = True)\n",
    "df.drop('Bwd_Avg_Bulk_Rate',axis = 1,inplace = True)\n",
    "df.drop('Bwd_Avg_Packets/Bulk',axis = 1,inplace = True)"
   ]
  },
  {
   "cell_type": "code",
   "execution_count": 23,
   "id": "d348a653",
   "metadata": {},
   "outputs": [
    {
     "data": {
      "text/plain": [
       "(225745, 75)"
      ]
     },
     "execution_count": 23,
     "metadata": {},
     "output_type": "execute_result"
    }
   ],
   "source": [
    "df.shape"
   ]
  },
  {
   "cell_type": "code",
   "execution_count": 24,
   "id": "7921c7e8",
   "metadata": {},
   "outputs": [],
   "source": [
    "\n",
    "le=preprocessing.LabelEncoder()\n",
    "df['Label']=le.fit_transform(df['Label'])\n",
    "    "
   ]
  },
  {
   "cell_type": "code",
   "execution_count": 25,
   "id": "187896c5",
   "metadata": {},
   "outputs": [
    {
     "data": {
      "text/plain": [
       "1    128027\n",
       "0     97718\n",
       "Name: Label, dtype: int64"
      ]
     },
     "execution_count": 25,
     "metadata": {},
     "output_type": "execute_result"
    }
   ],
   "source": [
    "df['Label'].value_counts()"
   ]
  },
  {
   "cell_type": "code",
   "execution_count": 26,
   "id": "6584924a",
   "metadata": {},
   "outputs": [],
   "source": [
    "# find out most important features\n",
    "\n",
    "# label col\n",
    "y = df.Label\n",
    "\n",
    "# independant variable\n",
    "x = df.drop(columns = [\"Label\"] ) \n",
    "\n",
    "# corelation y ~ X \n",
    "corr_X = x.corrwith(y)\n",
    "cor=corr_X.sort_values(ascending=False)\n"
   ]
  },
  {
   "cell_type": "code",
   "execution_count": 27,
   "id": "4040c2e6",
   "metadata": {},
   "outputs": [
    {
     "data": {
      "text/plain": [
       "Bwd_Packet_Length_Mean         0.603299\n",
       "Avg_Bwd_Segment_Size           0.603299\n",
       "Bwd_Packet_Length_Max          0.577323\n",
       "Bwd_Packet_Length_Std          0.576155\n",
       "Packet_Length_Mean             0.454283\n",
       "Average_Packet_Size            0.453472\n",
       "Packet_Length_Std              0.443749\n",
       "Max_Packet_Length              0.414399\n",
       "Packet_Length_Variance         0.408089\n",
       "PSH_Flag_Count                 0.247740\n",
       "Flow_IAT_Std                   0.129630\n",
       "Flow_IAT_Mean                  0.127503\n",
       "Fwd_IAT_Max                    0.105457\n",
       "Flow_IAT_Max                   0.100654\n",
       "Fwd_IAT_Std                    0.099651\n",
       "ACK_Flag_Count                 0.096975\n",
       "Idle_Max                       0.096775\n",
       "Idle_Mean                      0.087114\n",
       "Idle_Std                       0.078023\n",
       "Idle_Min                       0.061243\n",
       "Total_Length_of_Bwd_Packets    0.041244\n",
       "Subflow_Bwd_Bytes              0.041244\n",
       "Fwd_IAT_Total                  0.040565\n",
       "Active_Min                     0.033821\n",
       "Flow_Duration                  0.025923\n",
       "Active_Mean                    0.022905\n",
       "Fwd_IAT_Mean                   0.022030\n",
       "act_data_pkt_fwd              -0.002034\n",
       "Active_Max                    -0.009271\n",
       "ECE_Flag_Count                -0.012519\n",
       "RST_Flag_Count                -0.012519\n",
       "Total_Fwd_Packets             -0.029870\n",
       "Subflow_Fwd_Packets           -0.029870\n",
       "Flow_IAT_Min                  -0.038680\n",
       "Fwd_Header_Length             -0.043942\n",
       "Fwd_Hea_er_Length_1           -0.043942\n",
       "Init_Win_bytes_forward        -0.050916\n",
       "FIN-Flag_Count                -0.054560\n",
       "Fwd_IAT_Min                   -0.061743\n",
       "Bwd_IAT_Min                   -0.064277\n",
       "Subflow_Bwd_Packets           -0.069290\n",
       "Total_Backward_Packets        -0.069290\n",
       "Active_Std                    -0.070408\n",
       "Bwd_Header_Length             -0.076183\n",
       "Bwd_Packets                   -0.090383\n",
       "Init_Win_bytes_backward       -0.120735\n",
       "Fwd_Packets                   -0.129418\n",
       "Fwd_Packet_Length_Min         -0.180094\n",
       "Bwd_IAT_Mean                  -0.208595\n",
       "SYN_Flag_Count                -0.212189\n",
       "dtype: float64"
      ]
     },
     "execution_count": 27,
     "metadata": {},
     "output_type": "execute_result"
    }
   ],
   "source": [
    "cor[0:50]"
   ]
  },
  {
   "cell_type": "code",
   "execution_count": 28,
   "id": "ce3e37ef",
   "metadata": {},
   "outputs": [
    {
     "data": {
      "text/plain": [
       "Fwd_PSH_Flags                 -0.212189\n",
       "Bwd_IAT_Std                   -0.290896\n",
       "Bwd_IAT_Max                   -0.292054\n",
       "Fwd_Packet_Length_Std         -0.300271\n",
       "Down/Up_Ratio                 -0.305344\n",
       "Bwd_IAT_Total                 -0.318679\n",
       "Total_Length_of_Fwd_Packets   -0.319693\n",
       "Subflow_Fwd_Bytes             -0.319693\n",
       "Fwd_Packet_Length_Max         -0.321529\n",
       "Avg_Fwd_Segment_Size          -0.356895\n",
       "Fwd_Packet_Length_Mean        -0.356895\n",
       "Bwd_Packet_Length_Min         -0.365667\n",
       "min_seg_size_forward          -0.407315\n",
       "Min_Packet_Length             -0.427396\n",
       "URG_Flag_Count                -0.463190\n",
       "Destination_Port              -0.509798\n",
       "Flow_Bytes                          NaN\n",
       "Flow_Packets                        NaN\n",
       "Bwd_PSH_Flags                       NaN\n",
       "Bwd_URG_Flags                       NaN\n",
       "CWE_Flag_Count                      NaN\n",
       "Fwd_Avg_Packets/Bulk                NaN\n",
       "Fwd_Avg_Bulk Rate                   NaN\n",
       "Bwd_Avg_Bytes/Bulk                  NaN\n",
       "dtype: float64"
      ]
     },
     "execution_count": 28,
     "metadata": {},
     "output_type": "execute_result"
    }
   ],
   "source": [
    "cor[50:79]"
   ]
  },
  {
   "cell_type": "code",
   "execution_count": 29,
   "id": "d87dc045",
   "metadata": {},
   "outputs": [],
   "source": [
    "x.drop('Flow_Bytes',axis = 1,inplace=True)\n",
    "x.drop('Flow_Packets',axis = 1,inplace=True)\n",
    "x.drop('Bwd_PSH_Flags',axis = 1,inplace=True)\n",
    "x.drop('Bwd_URG_Flags',axis = 1,inplace=True)\n",
    "x.drop('CWE_Flag_Count',axis = 1,inplace=True)\n",
    "x.drop('Fwd_Avg_Packets/Bulk',axis = 1,inplace=True)\n",
    "x.drop('Fwd_Avg_Bulk Rate',axis = 1,inplace=True)\n",
    "x.drop('Bwd_Avg_Bytes/Bulk',axis = 1,inplace=True)"
   ]
  },
  {
   "cell_type": "code",
   "execution_count": 30,
   "id": "24e54bfa",
   "metadata": {},
   "outputs": [
    {
     "data": {
      "text/plain": [
       "(225745, 66)"
      ]
     },
     "execution_count": 30,
     "metadata": {},
     "output_type": "execute_result"
    }
   ],
   "source": [
    "x.shape"
   ]
  },
  {
   "cell_type": "markdown",
   "id": "4696564a",
   "metadata": {},
   "source": [
    "# Normalisation"
   ]
  },
  {
   "cell_type": "code",
   "execution_count": 31,
   "id": "52717c24",
   "metadata": {},
   "outputs": [],
   "source": [
    "x = x.apply(lambda x:(x - x.min())/(x.max() - x.min() ), axis= 0 )"
   ]
  },
  {
   "cell_type": "code",
   "execution_count": 32,
   "id": "2b4ba51b",
   "metadata": {},
   "outputs": [
    {
     "data": {
      "text/html": [
       "<div>\n",
       "<style scoped>\n",
       "    .dataframe tbody tr th:only-of-type {\n",
       "        vertical-align: middle;\n",
       "    }\n",
       "\n",
       "    .dataframe tbody tr th {\n",
       "        vertical-align: top;\n",
       "    }\n",
       "\n",
       "    .dataframe thead th {\n",
       "        text-align: right;\n",
       "    }\n",
       "</style>\n",
       "<table border=\"1\" class=\"dataframe\">\n",
       "  <thead>\n",
       "    <tr style=\"text-align: right;\">\n",
       "      <th></th>\n",
       "      <th>Destination_Port</th>\n",
       "      <th>Flow_Duration</th>\n",
       "      <th>Total_Fwd_Packets</th>\n",
       "      <th>Total_Backward_Packets</th>\n",
       "      <th>Total_Length_of_Fwd_Packets</th>\n",
       "      <th>Total_Length_of_Bwd_Packets</th>\n",
       "      <th>Fwd_Packet_Length_Max</th>\n",
       "      <th>Fwd_Packet_Length_Min</th>\n",
       "      <th>Fwd_Packet_Length_Mean</th>\n",
       "      <th>Fwd_Packet_Length_Std</th>\n",
       "      <th>...</th>\n",
       "      <th>act_data_pkt_fwd</th>\n",
       "      <th>min_seg_size_forward</th>\n",
       "      <th>Active_Mean</th>\n",
       "      <th>Active_Std</th>\n",
       "      <th>Active_Max</th>\n",
       "      <th>Active_Min</th>\n",
       "      <th>Idle_Mean</th>\n",
       "      <th>Idle_Std</th>\n",
       "      <th>Idle_Max</th>\n",
       "      <th>Idle_Min</th>\n",
       "    </tr>\n",
       "  </thead>\n",
       "  <tbody>\n",
       "    <tr>\n",
       "      <th>0</th>\n",
       "      <td>0.837225</td>\n",
       "      <td>3.333335e-08</td>\n",
       "      <td>0.000518</td>\n",
       "      <td>0.00000</td>\n",
       "      <td>0.000066</td>\n",
       "      <td>0.000000</td>\n",
       "      <td>0.000514</td>\n",
       "      <td>0.004076</td>\n",
       "      <td>0.001552</td>\n",
       "      <td>0.0</td>\n",
       "      <td>...</td>\n",
       "      <td>0.000518</td>\n",
       "      <td>0.384615</td>\n",
       "      <td>0.0</td>\n",
       "      <td>0.0</td>\n",
       "      <td>0.0</td>\n",
       "      <td>0.0</td>\n",
       "      <td>0.0</td>\n",
       "      <td>0.0</td>\n",
       "      <td>0.0</td>\n",
       "      <td>0.0</td>\n",
       "    </tr>\n",
       "    <tr>\n",
       "      <th>1</th>\n",
       "      <td>0.840109</td>\n",
       "      <td>9.166671e-07</td>\n",
       "      <td>0.000000</td>\n",
       "      <td>0.00034</td>\n",
       "      <td>0.000033</td>\n",
       "      <td>0.000001</td>\n",
       "      <td>0.000514</td>\n",
       "      <td>0.004076</td>\n",
       "      <td>0.001552</td>\n",
       "      <td>0.0</td>\n",
       "      <td>...</td>\n",
       "      <td>0.000000</td>\n",
       "      <td>0.384615</td>\n",
       "      <td>0.0</td>\n",
       "      <td>0.0</td>\n",
       "      <td>0.0</td>\n",
       "      <td>0.0</td>\n",
       "      <td>0.0</td>\n",
       "      <td>0.0</td>\n",
       "      <td>0.0</td>\n",
       "      <td>0.0</td>\n",
       "    </tr>\n",
       "    <tr>\n",
       "      <th>2</th>\n",
       "      <td>0.840124</td>\n",
       "      <td>4.416669e-07</td>\n",
       "      <td>0.000000</td>\n",
       "      <td>0.00034</td>\n",
       "      <td>0.000033</td>\n",
       "      <td>0.000001</td>\n",
       "      <td>0.000514</td>\n",
       "      <td>0.004076</td>\n",
       "      <td>0.001552</td>\n",
       "      <td>0.0</td>\n",
       "      <td>...</td>\n",
       "      <td>0.000000</td>\n",
       "      <td>0.384615</td>\n",
       "      <td>0.0</td>\n",
       "      <td>0.0</td>\n",
       "      <td>0.0</td>\n",
       "      <td>0.0</td>\n",
       "      <td>0.0</td>\n",
       "      <td>0.0</td>\n",
       "      <td>0.0</td>\n",
       "      <td>0.0</td>\n",
       "    </tr>\n",
       "    <tr>\n",
       "      <th>3</th>\n",
       "      <td>0.705548</td>\n",
       "      <td>2.916668e-07</td>\n",
       "      <td>0.000000</td>\n",
       "      <td>0.00034</td>\n",
       "      <td>0.000033</td>\n",
       "      <td>0.000001</td>\n",
       "      <td>0.000514</td>\n",
       "      <td>0.004076</td>\n",
       "      <td>0.001552</td>\n",
       "      <td>0.0</td>\n",
       "      <td>...</td>\n",
       "      <td>0.000000</td>\n",
       "      <td>0.384615</td>\n",
       "      <td>0.0</td>\n",
       "      <td>0.0</td>\n",
       "      <td>0.0</td>\n",
       "      <td>0.0</td>\n",
       "      <td>0.0</td>\n",
       "      <td>0.0</td>\n",
       "      <td>0.0</td>\n",
       "      <td>0.0</td>\n",
       "    </tr>\n",
       "    <tr>\n",
       "      <th>4</th>\n",
       "      <td>0.837194</td>\n",
       "      <td>3.333335e-08</td>\n",
       "      <td>0.000518</td>\n",
       "      <td>0.00000</td>\n",
       "      <td>0.000066</td>\n",
       "      <td>0.000000</td>\n",
       "      <td>0.000514</td>\n",
       "      <td>0.004076</td>\n",
       "      <td>0.001552</td>\n",
       "      <td>0.0</td>\n",
       "      <td>...</td>\n",
       "      <td>0.000518</td>\n",
       "      <td>0.384615</td>\n",
       "      <td>0.0</td>\n",
       "      <td>0.0</td>\n",
       "      <td>0.0</td>\n",
       "      <td>0.0</td>\n",
       "      <td>0.0</td>\n",
       "      <td>0.0</td>\n",
       "      <td>0.0</td>\n",
       "      <td>0.0</td>\n",
       "    </tr>\n",
       "  </tbody>\n",
       "</table>\n",
       "<p>5 rows × 66 columns</p>\n",
       "</div>"
      ],
      "text/plain": [
       "   Destination_Port  Flow_Duration  Total_Fwd_Packets  Total_Backward_Packets  \\\n",
       "0          0.837225   3.333335e-08           0.000518                 0.00000   \n",
       "1          0.840109   9.166671e-07           0.000000                 0.00034   \n",
       "2          0.840124   4.416669e-07           0.000000                 0.00034   \n",
       "3          0.705548   2.916668e-07           0.000000                 0.00034   \n",
       "4          0.837194   3.333335e-08           0.000518                 0.00000   \n",
       "\n",
       "   Total_Length_of_Fwd_Packets  Total_Length_of_Bwd_Packets  \\\n",
       "0                     0.000066                     0.000000   \n",
       "1                     0.000033                     0.000001   \n",
       "2                     0.000033                     0.000001   \n",
       "3                     0.000033                     0.000001   \n",
       "4                     0.000066                     0.000000   \n",
       "\n",
       "   Fwd_Packet_Length_Max  Fwd_Packet_Length_Min  Fwd_Packet_Length_Mean  \\\n",
       "0               0.000514               0.004076                0.001552   \n",
       "1               0.000514               0.004076                0.001552   \n",
       "2               0.000514               0.004076                0.001552   \n",
       "3               0.000514               0.004076                0.001552   \n",
       "4               0.000514               0.004076                0.001552   \n",
       "\n",
       "   Fwd_Packet_Length_Std  ...  act_data_pkt_fwd  min_seg_size_forward  \\\n",
       "0                    0.0  ...          0.000518              0.384615   \n",
       "1                    0.0  ...          0.000000              0.384615   \n",
       "2                    0.0  ...          0.000000              0.384615   \n",
       "3                    0.0  ...          0.000000              0.384615   \n",
       "4                    0.0  ...          0.000518              0.384615   \n",
       "\n",
       "   Active_Mean  Active_Std  Active_Max  Active_Min  Idle_Mean  Idle_Std  \\\n",
       "0          0.0         0.0         0.0         0.0        0.0       0.0   \n",
       "1          0.0         0.0         0.0         0.0        0.0       0.0   \n",
       "2          0.0         0.0         0.0         0.0        0.0       0.0   \n",
       "3          0.0         0.0         0.0         0.0        0.0       0.0   \n",
       "4          0.0         0.0         0.0         0.0        0.0       0.0   \n",
       "\n",
       "   Idle_Max  Idle_Min  \n",
       "0       0.0       0.0  \n",
       "1       0.0       0.0  \n",
       "2       0.0       0.0  \n",
       "3       0.0       0.0  \n",
       "4       0.0       0.0  \n",
       "\n",
       "[5 rows x 66 columns]"
      ]
     },
     "execution_count": 32,
     "metadata": {},
     "output_type": "execute_result"
    }
   ],
   "source": [
    "x.head()"
   ]
  },
  {
   "cell_type": "code",
   "execution_count": 33,
   "id": "cdc955cf",
   "metadata": {},
   "outputs": [
    {
     "data": {
      "text/plain": [
       "(225745, 66)"
      ]
     },
     "execution_count": 33,
     "metadata": {},
     "output_type": "execute_result"
    }
   ],
   "source": [
    "x.shape"
   ]
  },
  {
   "cell_type": "code",
   "execution_count": null,
   "id": "a28352dc",
   "metadata": {},
   "outputs": [],
   "source": []
  },
  {
   "cell_type": "code",
   "execution_count": 34,
   "id": "cbb2665b",
   "metadata": {},
   "outputs": [
    {
     "data": {
      "text/plain": [
       "False"
      ]
     },
     "execution_count": 34,
     "metadata": {},
     "output_type": "execute_result"
    }
   ],
   "source": [
    "x.isna().sum().any()"
   ]
  },
  {
   "cell_type": "markdown",
   "id": "ec1c1263",
   "metadata": {},
   "source": [
    "Train Test Split"
   ]
  },
  {
   "cell_type": "code",
   "execution_count": 35,
   "id": "02ec859d",
   "metadata": {},
   "outputs": [],
   "source": [
    "x_train, x_test, y_train, y_test = train_test_split(x, y, test_size=0.3, random_state=42)"
   ]
  },
  {
   "cell_type": "markdown",
   "id": "5f09ba9b",
   "metadata": {},
   "source": [
    "# Univariate Feature Selection"
   ]
  },
  {
   "cell_type": "code",
   "execution_count": 36,
   "id": "1a5dcfea",
   "metadata": {},
   "outputs": [],
   "source": [
    "from sklearn.feature_selection import SelectKBest\n",
    "from sklearn.feature_selection import chi2\n",
    "# find best scored 15 features\n",
    "select_feature = SelectKBest(chi2, k=15).fit(x_train, y_train)"
   ]
  },
  {
   "cell_type": "code",
   "execution_count": 37,
   "id": "922dd4fc",
   "metadata": {},
   "outputs": [
    {
     "name": "stdout",
     "output_type": "stream",
     "text": [
      "Score list: [2.75466459e+04 5.68824402e+01 4.64982656e+00 2.68334473e+01\n",
      " 9.94768075e+02 1.33807683e+01 9.02188013e+03 3.29739776e+03\n",
      " 8.04056653e+03 6.30114885e+03 2.27117690e+04 2.20511501e+03\n",
      " 1.40303412e+04 1.56839791e+04 1.10485898e+02 5.25901110e+02\n",
      " 7.10598647e+02 4.41801255e+01 1.43960193e+02 8.38837729e+00\n",
      " 4.59625691e+02 8.55657240e+02 3.52210807e+02 9.82442693e+03\n",
      " 1.27394213e+03 3.23209116e+03 6.43127465e+03 3.97059303e+02\n",
      " 6.90028354e+03 9.95237200e+00 3.82308724e+01 8.64690129e+02\n",
      " 1.54726225e+02 2.65003954e+03 1.05141476e+04 1.02694382e+04\n",
      " 9.80912974e+03 7.15677063e+03 4.61196178e+02 6.90028354e+03\n",
      " 2.22420971e+01 6.38987018e+03 7.13447841e+02 2.91396897e+04\n",
      " 2.22420971e+01 4.27798903e+03 8.81263636e+03 8.04056653e+03\n",
      " 1.40303412e+04 9.95237200e+00 4.64982656e+00 9.94768075e+02\n",
      " 2.68334473e+01 1.33807683e+01 9.24288892e+01 1.06564909e+03\n",
      " 3.38796577e-02 4.08609888e+02 2.75209445e+00 6.81156740e+01\n",
      " 5.36228954e-01 6.16614198e+00 4.67054502e+02 6.67698572e+02\n",
      " 7.00200445e+02 2.53803349e+02]\n",
      "Feature list: Index(['Destination_Port', 'Flow_Duration', 'Total_Fwd_Packets',\n",
      "       'Total_Backward_Packets', 'Total_Length_of_Fwd_Packets',\n",
      "       'Total_Length_of_Bwd_Packets', 'Fwd_Packet_Length_Max',\n",
      "       'Fwd_Packet_Length_Min', 'Fwd_Packet_Length_Mean',\n",
      "       'Fwd_Packet_Length_Std', 'Bwd_Packet_Length_Max',\n",
      "       'Bwd_Packet_Length_Min', 'Bwd_Packet_Length_Mean',\n",
      "       'Bwd_Packet_Length_Std', 'Flow_IAT_Mean', 'Flow_IAT_Std',\n",
      "       'Flow_IAT_Max', 'Flow_IAT_Min', 'Fwd_IAT_Total', 'Fwd_IAT_Mean',\n",
      "       'Fwd_IAT_Std', 'Fwd_IAT_Max', 'Fwd_IAT_Min', 'Bwd_IAT_Total',\n",
      "       'Bwd_IAT_Mean', 'Bwd_IAT_Std', 'Bwd_IAT_Max', 'Bwd_IAT_Min',\n",
      "       'Fwd_PSH_Flags', 'Fwd_Header_Length', 'Bwd_Header_Length',\n",
      "       'Fwd_Packets', 'Bwd_Packets', 'Min_Packet_Length', 'Max_Packet_Length',\n",
      "       'Packet_Length_Mean', 'Packet_Length_Std', 'Packet_Length_Variance',\n",
      "       'FIN-Flag_Count', 'SYN_Flag_Count', 'RST_Flag_Count', 'PSH_Flag_Count',\n",
      "       'ACK_Flag_Count', 'URG_Flag_Count', 'ECE_Flag_Count', 'Down/Up_Ratio',\n",
      "       'Average_Packet_Size', 'Avg_Fwd_Segment_Size', 'Avg_Bwd_Segment_Size',\n",
      "       'Fwd_Hea_er_Length_1', 'Subflow_Fwd_Packets', 'Subflow_Fwd_Bytes',\n",
      "       'Subflow_Bwd_Packets', 'Subflow_Bwd_Bytes', 'Init_Win_bytes_forward',\n",
      "       'Init_Win_bytes_backward', 'act_data_pkt_fwd', 'min_seg_size_forward',\n",
      "       'Active_Mean', 'Active_Std', 'Active_Max', 'Active_Min', 'Idle_Mean',\n",
      "       'Idle_Std', 'Idle_Max', 'Idle_Min'],\n",
      "      dtype='object')\n"
     ]
    }
   ],
   "source": [
    "print('Score list:', select_feature.scores_)\n",
    "print('Feature list:', x_train.columns)"
   ]
  },
  {
   "cell_type": "code",
   "execution_count": 38,
   "id": "b9d7484e",
   "metadata": {},
   "outputs": [],
   "source": [
    "clm=x_train.columns"
   ]
  },
  {
   "cell_type": "code",
   "execution_count": 39,
   "id": "b6624786",
   "metadata": {},
   "outputs": [
    {
     "data": {
      "text/plain": [
       "Index(['Destination_Port', 'Flow_Duration', 'Total_Fwd_Packets',\n",
       "       'Total_Backward_Packets', 'Total_Length_of_Fwd_Packets',\n",
       "       'Total_Length_of_Bwd_Packets', 'Fwd_Packet_Length_Max',\n",
       "       'Fwd_Packet_Length_Min', 'Fwd_Packet_Length_Mean',\n",
       "       'Fwd_Packet_Length_Std'],\n",
       "      dtype='object')"
      ]
     },
     "execution_count": 39,
     "metadata": {},
     "output_type": "execute_result"
    }
   ],
   "source": [
    "clm[0:10]"
   ]
  },
  {
   "cell_type": "code",
   "execution_count": 40,
   "id": "cc22098c",
   "metadata": {},
   "outputs": [
    {
     "name": "stdout",
     "output_type": "stream",
     "text": [
      "Accuracy is:  0.9995127281318292\n"
     ]
    },
    {
     "data": {
      "text/plain": [
       "<AxesSubplot:>"
      ]
     },
     "execution_count": 40,
     "metadata": {},
     "output_type": "execute_result"
    },
    {
     "data": {
      "image/png": "[encoded data removed]",
      "text/plain": [
       "<Figure size 640x480 with 2 Axes>"
      ]
     },
     "metadata": {},
     "output_type": "display_data"
    }
   ],
   "source": [
    "x_train_2 = select_feature.transform(x_train)\n",
    "x_test_2 = select_feature.transform(x_test)\n",
    "\n",
    "clf_rf_2 = RandomForestClassifier()      \n",
    "clr_rf_2 = clf_rf_2.fit(x_train_2,y_train)\n",
    "ac_2 = accuracy_score(y_test,clf_rf_2.predict(x_test_2))\n",
    "print('Accuracy is: ',ac_2)\n",
    "cm_2 = confusion_matrix(y_test,clf_rf_2.predict(x_test_2))\n",
    "sns.heatmap(cm_2,annot=True,fmt=\"d\")"
   ]
  },
  {
   "cell_type": "markdown",
   "id": "833f4553",
   "metadata": {},
   "source": [
    "# Recursive Features Elimination"
   ]
  },
  {
   "cell_type": "code",
   "execution_count": 41,
   "id": "3ecf366d",
   "metadata": {},
   "outputs": [],
   "source": [
    "from sklearn.feature_selection import RFE\n",
    "# Create the RFE object and rank each pixel\n",
    "clf_rf_3 = RandomForestClassifier()      \n",
    "rfe = RFE(estimator=clf_rf_3, n_features_to_select=20, step=1)\n",
    "rfe = rfe.fit(x_train, y_train)"
   ]
  },
  {
   "cell_type": "code",
   "execution_count": 42,
   "id": "07a96d66",
   "metadata": {},
   "outputs": [
    {
     "name": "stdout",
     "output_type": "stream",
     "text": [
      "Chosen best 5 feature by rfe: Index(['Destination_Port', 'Total_Fwd_Packets', 'Total_Length_of_Fwd_Packets',\n",
      "       'Fwd_Packet_Length_Max', 'Fwd_Packet_Length_Mean',\n",
      "       'Fwd_Packet_Length_Std', 'Bwd_Packet_Length_Min',\n",
      "       'Bwd_Packet_Length_Std', 'Flow_IAT_Std', 'Fwd_Header_Length',\n",
      "       'Packet_Length_Mean', 'Average_Packet_Size', 'Avg_Fwd_Segment_Size',\n",
      "       'Avg_Bwd_Segment_Size', 'Fwd_Hea_er_Length_1', 'Subflow_Fwd_Packets',\n",
      "       'Subflow_Fwd_Bytes', 'Init_Win_bytes_forward',\n",
      "       'Init_Win_bytes_backward', 'act_data_pkt_fwd'],\n",
      "      dtype='object')\n"
     ]
    }
   ],
   "source": [
    "print('Chosen best 20 feature by rfe:',x_train.columns[rfe.support_])"
   ]
  },
  {
   "cell_type": "code",
   "execution_count": 43,
   "id": "8e5ec17a",
   "metadata": {},
   "outputs": [
    {
     "name": "stdout",
     "output_type": "stream",
     "text": [
      "Accuracy is:  0.999822810229756\n"
     ]
    },
    {
     "data": {
      "text/plain": [
       "<AxesSubplot:>"
      ]
     },
     "execution_count": 43,
     "metadata": {},
     "output_type": "execute_result"
    },
    {
     "data": {
      "image/png": "[encoded data removed]",
      "text/plain": [
       "<Figure size 640x480 with 2 Axes>"
      ]
     },
     "metadata": {},
     "output_type": "display_data"
    }
   ],
   "source": [
    "y_pred = rfe.predict(x_test)\n",
    "ac_2 = accuracy_score(y_test,y_pred)\n",
    "print('Accuracy is: ',ac_2)\n",
    "cm_2 = confusion_matrix(y_test,y_pred)\n",
    "sns.heatmap(cm_2,annot=True,fmt=\"d\")"
   ]
  },
  {
   "cell_type": "code",
   "execution_count": 44,
   "id": "ba593dcd",
   "metadata": {},
   "outputs": [
    {
     "data": {
      "text/plain": [
       "(158021, 66)"
      ]
     },
     "execution_count": 44,
     "metadata": {},
     "output_type": "execute_result"
    }
   ],
   "source": [
    "x_train.shape"
   ]
  },
  {
   "cell_type": "markdown",
   "id": "20b6f9fc",
   "metadata": {},
   "source": [
    "# RFE with Cross Validation"
   ]
  },
  {
   "cell_type": "code",
   "execution_count": 45,
   "id": "38564b69",
   "metadata": {},
   "outputs": [
    {
     "name": "stdout",
     "output_type": "stream",
     "text": [
      "Optimal number of features : 30\n",
      "Best features : Index(['Destination_Port', 'Total_Fwd_Packets', 'Total_Length_of_Fwd_Packets',\n",
      "       'Total_Length_of_Bwd_Packets', 'Fwd_Packet_Length_Max',\n",
      "       'Fwd_Packet_Length_Mean', 'Fwd_Packet_Length_Std',\n",
      "       'Bwd_Packet_Length_Max', 'Bwd_Packet_Length_Min',\n",
      "       'Bwd_Packet_Length_Mean', 'Bwd_Packet_Length_Std', 'Flow_IAT_Std',\n",
      "       'Fwd_IAT_Min', 'Bwd_IAT_Total', 'Fwd_Header_Length',\n",
      "       'Bwd_Header_Length', 'Fwd_Packets', 'Packet_Length_Mean',\n",
      "       'URG_Flag_Count', 'Average_Packet_Size', 'Avg_Fwd_Segment_Size',\n",
      "       'Avg_Bwd_Segment_Size', 'Fwd_Hea_er_Length_1', 'Subflow_Fwd_Packets',\n",
      "       'Subflow_Fwd_Bytes', 'Subflow_Bwd_Packets', 'Subflow_Bwd_Bytes',\n",
      "       'Init_Win_bytes_forward', 'Init_Win_bytes_backward',\n",
      "       'act_data_pkt_fwd'],\n",
      "      dtype='object')\n"
     ]
    }
   ],
   "source": [
    "from sklearn.feature_selection import RFECV\n",
    "\n",
    "# The \"accuracy\" scoring is proportional to the number of correct classifications\n",
    "clf_rf_4 = RandomForestClassifier() \n",
    "rfecv = RFECV(estimator=clf_rf_4, step=1, cv=5,scoring='accuracy')   #5-fold cross-validation\n",
    "rfecv = rfecv.fit(x_train, y_train)\n",
    "\n",
    "print('Optimal number of features :', rfecv.n_features_)\n",
    "print('Best features :', x_train.columns[rfecv.support_])"
   ]
  },
  {
   "cell_type": "code",
   "execution_count": 46,
   "id": "e0e5ce06",
   "metadata": {},
   "outputs": [
    {
     "name": "stdout",
     "output_type": "stream",
     "text": [
      "Accuracy is:  0.999940936743252\n"
     ]
    },
    {
     "data": {
      "text/plain": [
       "<AxesSubplot:>"
      ]
     },
     "execution_count": 46,
     "metadata": {},
     "output_type": "execute_result"
    },
    {
     "data": {
      "image/png": "[encoded data removed]",
      "text/plain": [
       "<Figure size 640x480 with 2 Axes>"
      ]
     },
     "metadata": {},
     "output_type": "display_data"
    }
   ],
   "source": [
    "y_pred2 = rfecv.predict(x_test)\n",
    "ac_2 = accuracy_score(y_test,y_pred2)\n",
    "print('Accuracy is: ',ac_2)\n",
    "cm_2 = confusion_matrix(y_test,y_pred2)\n",
    "sns.heatmap(cm_2,annot=True,fmt=\"d\")"
   ]
  },
  {
   "cell_type": "markdown",
   "id": "7cd3ab72",
   "metadata": {},
   "source": [
    "Read Papers\n",
    "\n",
    "Bot-Iot\n",
    "\n",
    "Time Efficienty\n",
    "\n",
    "Other Algorithms/improve algo"
   ]
  },
  {
   "cell_type": "code",
   "execution_count": 42,
   "id": "9f2cc127",
   "metadata": {},
   "outputs": [],
   "source": [
    "df_1 = pd.read_csv('Friday-WorkingHours-Afternoon-DDos.pcap_ISCX.csv')\n",
    "df_2 = pd.read_csv('Friday-WorkingHours-Afternoon-PortScan.pcap_ISCX.csv')\n",
    "df_3 = pd.read_csv('Friday-WorkingHours-Morning.pcap_ISCX.csv')\n",
    "df_4 = pd.read_csv('Monday-WorkingHours.pcap_ISCX.csv')\n",
    "df_5 = pd.read_csv('Thursday-WorkingHours-Afternoon-Infilteration.pcap_ISCX.csv')\n",
    "df_6 = pd.read_csv('Thursday-WorkingHours-Morning-WebAttacks.pcap_ISCX.csv')\n",
    "df_7 = pd.read_csv('Tuesday-WorkingHours.pcap_ISCX.csv')\n",
    "df_8 = pd.read_csv('Wednesday-workingHours.pcap_ISCX.csv')"
   ]
  },
  {
   "cell_type": "code",
   "execution_count": 43,
   "id": "122e876f",
   "metadata": {},
   "outputs": [],
   "source": [
    "frames=[df_1, df_2, df_3, df_4, df_5, df_6, df_7, df_8]\n",
    "df_all=pd.concat(frames)"
   ]
  },
  {
   "cell_type": "code",
   "execution_count": 44,
   "id": "9a2a71b3",
   "metadata": {},
   "outputs": [],
   "source": [
    "df_all.columns=columns"
   ]
  },
  {
   "cell_type": "code",
   "execution_count": 45,
   "id": "951df42a",
   "metadata": {},
   "outputs": [
    {
     "data": {
      "text/plain": [
       "True"
      ]
     },
     "execution_count": 45,
     "metadata": {},
     "output_type": "execute_result"
    }
   ],
   "source": [
    "df_all.isnull().sum().any()"
   ]
  },
  {
   "cell_type": "code",
   "execution_count": 46,
   "id": "e68a07b6",
   "metadata": {},
   "outputs": [
    {
     "data": {
      "text/plain": [
       "Destination_Port                  0\n",
       "Flow_Duration                     0\n",
       "Total_Fwd_Packets                 0\n",
       "Total_Backward_Packets            0\n",
       "Total_Length_of_Fwd_Packets       0\n",
       "Total_Length_of_Bwd_Packets       0\n",
       "Fwd_Packet_Length_Max             0\n",
       "Fwd_Packet_Length_Min             0\n",
       "Fwd_Packet_Length_Mean            0\n",
       "Fwd_Packet_Length_Std             0\n",
       "Bwd_Packet_Length_Max             0\n",
       "Bwd_Packet_Length_Min             0\n",
       "Bwd_Packet_Length_Mean            0\n",
       "Bwd_Packet_Length_Std             0\n",
       "Flow_Bytes                     1358\n",
       "Flow_Packets                      0\n",
       "Flow_IAT_Mean                     0\n",
       "Flow_IAT_Std                      0\n",
       "Flow_IAT_Max                      0\n",
       "Flow_IAT_Min                      0\n",
       "Fwd_IAT_Total                     0\n",
       "Fwd_IAT_Mean                      0\n",
       "Fwd_IAT_Std                       0\n",
       "Fwd_IAT_Max                       0\n",
       "Fwd_IAT_Min                       0\n",
       "Bwd_IAT_Total                     0\n",
       "Bwd_IAT_Mean                      0\n",
       "Bwd_IAT_Std                       0\n",
       "Bwd_IAT_Max                       0\n",
       "Bwd_IAT_Min                       0\n",
       "Fwd_PSH_Flags                     0\n",
       "Bwd_PSH_Flags                     0\n",
       "Fwd_URG_Flags                     0\n",
       "Bwd_URG_Flags                     0\n",
       "Fwd_Header_Length                 0\n",
       "Bwd_Header_Length                 0\n",
       "Fwd_Packets                       0\n",
       "Bwd_Packets                       0\n",
       "Min_Packet_Length                 0\n",
       "Max_Packet_Length                 0\n",
       "dtype: int64"
      ]
     },
     "execution_count": 46,
     "metadata": {},
     "output_type": "execute_result"
    }
   ],
   "source": [
    "df_all.iloc[:,0:40].isna().sum()"
   ]
  },
  {
   "cell_type": "code",
   "execution_count": 47,
   "id": "ce47b820",
   "metadata": {},
   "outputs": [
    {
     "data": {
      "text/plain": [
       "Max_Packet_Length          0\n",
       "Packet_Length_Mean         0\n",
       "Packet_Length_Std          0\n",
       "Packet_Length_Variance     0\n",
       "FIN-Flag_Count             0\n",
       "SYN_Flag_Count             0\n",
       "RST_Flag_Count             0\n",
       "PSH_Flag_Count             0\n",
       "ACK_Flag_Count             0\n",
       "URG_Flag_Count             0\n",
       "CWE_Flag_Count             0\n",
       "ECE_Flag_Count             0\n",
       "Down/Up_Ratio              0\n",
       "Average_Packet_Size        0\n",
       "Avg_Fwd_Segment_Size       0\n",
       "Avg_Bwd_Segment_Size       0\n",
       "Fwd_Hea_er_Length_1        0\n",
       "Fwd_Avg-Bytes/Bulk         0\n",
       "Fwd_Avg_Packets/Bulk       0\n",
       "Fwd_Avg_Bulk Rate          0\n",
       "Bwd_Avg_Bytes/Bulk         0\n",
       "Bwd_Avg_Packets/Bulk       0\n",
       "Bwd_Avg_Bulk_Rate          0\n",
       "Subflow_Fwd_Packets        0\n",
       "Subflow_Fwd_Bytes          0\n",
       "Subflow_Bwd_Packets        0\n",
       "Subflow_Bwd_Bytes          0\n",
       "Init_Win_bytes_forward     0\n",
       "Init_Win_bytes_backward    0\n",
       "act_data_pkt_fwd           0\n",
       "min_seg_size_forward       0\n",
       "Active_Mean                0\n",
       "Active_Std                 0\n",
       "Active_Max                 0\n",
       "Active_Min                 0\n",
       "Idle_Mean                  0\n",
       "Idle_Std                   0\n",
       "Idle_Max                   0\n",
       "Idle_Min                   0\n",
       "Label                      0\n",
       "dtype: int64"
      ]
     },
     "execution_count": 47,
     "metadata": {},
     "output_type": "execute_result"
    }
   ],
   "source": [
    "df_all.iloc[:,39:80].isna().sum()"
   ]
  },
  {
   "cell_type": "code",
   "execution_count": 48,
   "id": "e05ffb6e",
   "metadata": {},
   "outputs": [],
   "source": [
    "df_all = df_all.dropna(axis = 0, how ='any') "
   ]
  },
  {
   "cell_type": "code",
   "execution_count": 49,
   "id": "2baad3a5",
   "metadata": {},
   "outputs": [
    {
     "data": {
      "text/plain": [
       "(2829385, 79)"
      ]
     },
     "execution_count": 49,
     "metadata": {},
     "output_type": "execute_result"
    }
   ],
   "source": [
    "df_all.shape"
   ]
  },
  {
   "cell_type": "code",
   "execution_count": 50,
   "id": "80e7be34",
   "metadata": {},
   "outputs": [
    {
     "data": {
      "text/plain": [
       "False"
      ]
     },
     "execution_count": 50,
     "metadata": {},
     "output_type": "execute_result"
    }
   ],
   "source": [
    "df_all.isnull().sum().any()"
   ]
  },
  {
   "cell_type": "code",
   "execution_count": 51,
   "id": "c109f3fa",
   "metadata": {},
   "outputs": [
    {
     "data": {
      "text/plain": [
       "BENIGN                        2272688\n",
       "DoS Hulk                       230124\n",
       "PortScan                       158930\n",
       "DDoS                           128027\n",
       "DoS GoldenEye                   10293\n",
       "FTP-Patator                      7938\n",
       "SSH-Patator                      5897\n",
       "DoS slowloris                    5796\n",
       "DoS Slowhttptest                 5499\n",
       "Bot                              1966\n",
       "Web Attack � Brute Force         1507\n",
       "Web Attack � XSS                  652\n",
       "Infiltration                       36\n",
       "Web Attack � Sql Injection         21\n",
       "Heartbleed                         11\n",
       "Name: Label, dtype: int64"
      ]
     },
     "execution_count": 51,
     "metadata": {},
     "output_type": "execute_result"
    }
   ],
   "source": [
    "df_all['Label'].value_counts()"
   ]
  },
  {
   "cell_type": "code",
   "execution_count": null,
   "id": "6aec60e2",
   "metadata": {},
   "outputs": [],
   "source": []
  }
 ],
 "metadata": {
  "kernelspec": {
   "display_name": "Python 3 (ipykernel)",
   "language": "python",
   "name": "python3"
  },
  "language_info": {
   "codemirror_mode": {
    "name": "ipython",
    "version": 3
   },
   "file_extension": ".py",
   "mimetype": "text/x-python",
   "name": "python",
   "nbconvert_exporter": "python",
   "pygments_lexer": "ipython3",
   "version": "3.9.13"
  }
 },
 "nbformat": 4,
 "nbformat_minor": 5
}
